{
 "metadata": {
  "name": "",
  "signature": "sha256:5545b325f1b5f2fe7aaa5ab5927c6461eda08ef64be222ac9f8d368b601c1523"
 },
 "nbformat": 3,
 "nbformat_minor": 0,
 "worksheets": [
  {
   "cells": [
    {
     "cell_type": "markdown",
     "metadata": {},
     "source": [
      "Updating this to match what was found when trying to mimic their test.\n",
      "Was able to improve the performance by weighting.\n",
      "Now, going to try some simple feature selection on the entire featureset and see if performance can be improved further."
     ]
    },
    {
     "cell_type": "code",
     "collapsed": false,
     "input": [
      "import matplotlib\n",
      "import matplotlib.pyplot as plt\n",
      "import numpy as np"
     ],
     "language": "python",
     "metadata": {},
     "outputs": [],
     "prompt_number": 1
    },
    {
     "cell_type": "code",
     "collapsed": false,
     "input": [
      "%matplotlib inline\n",
      "plt.rcParams['figure.figsize'] = 6, 4.5\n",
      "plt.rcParams['axes.grid'] = True\n",
      "plt.gray()"
     ],
     "language": "python",
     "metadata": {},
     "outputs": [
      {
       "metadata": {},
       "output_type": "display_data",
       "text": [
        "<matplotlib.figure.Figure at 0x7fea12328080>"
       ]
      }
     ],
     "prompt_number": 2
    },
    {
     "cell_type": "markdown",
     "metadata": {},
     "source": [
      "# Loading the data\n",
      "\n",
      "As before, loading the data.\n",
      "But, now there's more data to load."
     ]
    },
    {
     "cell_type": "code",
     "collapsed": false,
     "input": [
      "cd .."
     ],
     "language": "python",
     "metadata": {},
     "outputs": [
      {
       "output_type": "stream",
       "stream": "stdout",
       "text": [
        "/home/gavin/repositories/hail-seizure\n"
       ]
      }
     ],
     "prompt_number": 3
    },
    {
     "cell_type": "code",
     "collapsed": false,
     "input": [
      "import train\n",
      "import json\n",
      "import imp"
     ],
     "language": "python",
     "metadata": {},
     "outputs": [],
     "prompt_number": 4
    },
    {
     "cell_type": "code",
     "collapsed": false,
     "input": [
      "settings = json.load(open('SETTINGS.json', 'r'))"
     ],
     "language": "python",
     "metadata": {},
     "outputs": [],
     "prompt_number": 5
    },
    {
     "cell_type": "code",
     "collapsed": false,
     "input": [
      "settings['FEATURES']"
     ],
     "language": "python",
     "metadata": {},
     "outputs": [
      {
       "metadata": {},
       "output_type": "pyout",
       "prompt_number": 6,
       "text": [
        "['ica_feat_var_',\n",
        " 'ica_feat_cov_',\n",
        " 'ica_feat_corrcoef_',\n",
        " 'ica_feat_pib_',\n",
        " 'ica_feat_xcorr_',\n",
        " 'ica_feat_psd_',\n",
        " 'ica_feat_psd_logf_',\n",
        " 'ica_feat_coher_',\n",
        " 'ica_feat_coher_logf_',\n",
        " 'raw_feat_var_',\n",
        " 'raw_feat_cov_',\n",
        " 'raw_feat_corrcoef_',\n",
        " 'raw_feat_pib_',\n",
        " 'raw_feat_xcorr_',\n",
        " 'raw_feat_psd_',\n",
        " 'raw_feat_psd_logf_',\n",
        " 'raw_feat_coher_',\n",
        " 'raw_feat_coher_logf_']"
       ]
      }
     ],
     "prompt_number": 6
    },
    {
     "cell_type": "code",
     "collapsed": false,
     "input": [
      "data = train.get_data(settings['FEATURES'])"
     ],
     "language": "python",
     "metadata": {},
     "outputs": [],
     "prompt_number": 7
    },
    {
     "cell_type": "code",
     "collapsed": false,
     "input": [
      "!free -m"
     ],
     "language": "python",
     "metadata": {},
     "outputs": [
      {
       "output_type": "stream",
       "stream": "stdout",
       "text": [
        "             total       used       free     shared    buffers     cached\r\n",
        "Mem:         11933      11736        196         62         48       3061\r\n",
        "-/+ buffers/cache:       8626       3306\r\n",
        "Swap:        12287       1041      11246\r\n"
       ]
      }
     ],
     "prompt_number": 8
    },
    {
     "cell_type": "markdown",
     "metadata": {},
     "source": [
      "# Developing training script\n",
      "\n",
      "It's not generally a good idea to run anything that's going to take a long time in an IPython notebook.\n",
      "The thing can freeze, or if it's disconnected lose work.\n",
      "Going to develop a script here that can be run locally or on salmon."
     ]
    },
    {
     "cell_type": "code",
     "collapsed": false,
     "input": [
      "# getting a set of the subjects involved\n",
      "subjects = set(list(data.values())[0].keys())\n",
      "print(subjects)"
     ],
     "language": "python",
     "metadata": {},
     "outputs": [
      {
       "output_type": "stream",
       "stream": "stdout",
       "text": [
        "{'Dog_5', 'Patient_2', 'Patient_1', 'Dog_2', 'Dog_4', 'Dog_1', 'Dog_3'}\n"
       ]
      }
     ],
     "prompt_number": 9
    },
    {
     "cell_type": "code",
     "collapsed": false,
     "input": [
      "import sklearn.preprocessing\n",
      "import sklearn.pipeline\n",
      "import sklearn.ensemble\n",
      "import sklearn.cross_validation\n",
      "from train import utils"
     ],
     "language": "python",
     "metadata": {},
     "outputs": [],
     "prompt_number": 10
    },
    {
     "cell_type": "markdown",
     "metadata": {},
     "source": [
      "## Feature selection\n",
      "\n",
      "We want to do some simple feature selection, as even with a massive amount of RAM available there's no point in using features that are obviously useless.\n",
      "The first suggestion for this is a [variance threshold][vt], removing features with low variances.\n",
      "\n",
      "[vt]: http://scikit-learn.org/stable/modules/feature_selection.html"
     ]
    },
    {
     "cell_type": "code",
     "collapsed": false,
     "input": [
      "X,y = utils.build_training(list(subjects)[0],list(data.keys()),data)"
     ],
     "language": "python",
     "metadata": {},
     "outputs": [],
     "prompt_number": 13
    },
    {
     "cell_type": "code",
     "collapsed": false,
     "input": [
      "h=plt.hist(np.log10(np.var(X,axis=0)))"
     ],
     "language": "python",
     "metadata": {},
     "outputs": [
      {
       "metadata": {},
       "output_type": "display_data",
       "png": "[encoded data removed]",
       "text": [
        "<matplotlib.figure.Figure at 0x7fe92ad1e4a8>"
       ]
      }
     ],
     "prompt_number": 27
    },
    {
     "cell_type": "markdown",
     "metadata": {},
     "source": [
      "However, I don't really like this much, as low variance doesn't mean that there won't be information there.\n",
      "After all, variance scales with the multiplicative constants.\n",
      "\n",
      "A better approach is scikit-learns SelectKBest, which can use $\\chi^2$ or ANOVA f-values.\n",
      "Can't use $\\chi^2$ as demands non-negative features.\n",
      "Trying each down to the 50 best and attempting to plot in 2d with PCA:"
     ]
    },
    {
     "cell_type": "code",
     "collapsed": false,
     "input": [
      "import sklearn.feature_selection"
     ],
     "language": "python",
     "metadata": {},
     "outputs": [],
     "prompt_number": 28
    },
    {
     "cell_type": "code",
     "collapsed": false,
     "input": [
      "Xbest = sklearn.feature_selection.SelectKBest(sklearn.feature_selection.f_classif, k=50).fit_transform(X,y)"
     ],
     "language": "python",
     "metadata": {},
     "outputs": [],
     "prompt_number": 30
    },
    {
     "cell_type": "code",
     "collapsed": false,
     "input": [
      "import sklearn.decomposition"
     ],
     "language": "python",
     "metadata": {},
     "outputs": [],
     "prompt_number": 31
    },
    {
     "cell_type": "code",
     "collapsed": false,
     "input": [
      "pca = sklearn.decomposition.PCA(n_components=2)\n",
      "scaler = sklearn.preprocessing.StandardScaler()\n",
      "twodX = pca.fit_transform(scaler.fit_transform(Xbest))\n",
      "plt.scatter(twodX[:,0][y==1],twodX[:,1][y==1],c='blue')\n",
      "plt.scatter(twodX[:,0][y==0],twodX[:,1][y==0],c='red')"
     ],
     "language": "python",
     "metadata": {},
     "outputs": [
      {
       "metadata": {},
       "output_type": "pyout",
       "prompt_number": 40,
       "text": [
        "<matplotlib.collections.PathCollection at 0x7fe929030518>"
       ]
      },
      {
       "metadata": {},
       "output_type": "display_data",
       "png": "[encoded data removed]",
       "text": [
        "<matplotlib.figure.Figure at 0x7fe9377dc080>"
       ]
      }
     ],
     "prompt_number": 40
    },
    {
     "cell_type": "markdown",
     "metadata": {},
     "source": [
      "Looking good, now doing the same with the magical t-SNE:"
     ]
    },
    {
     "cell_type": "code",
     "collapsed": false,
     "input": [
      "import sklearn.manifold"
     ],
     "language": "python",
     "metadata": {},
     "outputs": [],
     "prompt_number": 41
    },
    {
     "cell_type": "code",
     "collapsed": false,
     "input": [
      "tsne = sklearn.manifold.TSNE()\n",
      "twodX = tsne.fit_transform(scaler.fit_transform(Xbest))\n",
      "plt.scatter(twodX[:,0][y==1],twodX[:,1][y==1],c='blue')\n",
      "plt.scatter(twodX[:,0][y==0],twodX[:,1][y==0],c='red')"
     ],
     "language": "python",
     "metadata": {},
     "outputs": [
      {
       "metadata": {},
       "output_type": "pyout",
       "prompt_number": 42,
       "text": [
        "<matplotlib.collections.PathCollection at 0x7fe928042d30>"
       ]
      },
      {
       "metadata": {},
       "output_type": "display_data",
       "png": "[encoded data removed]",
       "text": [
        "<matplotlib.figure.Figure at 0x7fe9290192b0>"
       ]
      }
     ],
     "prompt_number": 42
    },
    {
     "cell_type": "markdown",
     "metadata": {},
     "source": [
      "Also looking good.\n",
      "So, all we do is add the selection to our model and then also turn the `n_estimators` up and we should get a better prediction."
     ]
    },
    {
     "cell_type": "code",
     "collapsed": false,
     "input": [
      "selection = sklearn.feature_selection.SelectKBest(sklearn.feature_selection.f_classif,k=3000)\n",
      "scaler = sklearn.preprocessing.StandardScaler()\n",
      "forest = sklearn.ensemble.RandomForestClassifier()\n",
      "model = sklearn.pipeline.Pipeline([('sel',selection),('scl',scaler),('clf',forest)])"
     ],
     "language": "python",
     "metadata": {},
     "outputs": [],
     "prompt_number": 44
    },
    {
     "cell_type": "markdown",
     "metadata": {},
     "source": [
      "Testing this model on this single subject:"
     ]
    },
    {
     "cell_type": "code",
     "collapsed": false,
     "input": [
      "def subjpredictions(subject,model,data):\n",
      "    X,y = utils.build_training(subject,list(data.keys()),data)\n",
      "    cv = sklearn.cross_validation.StratifiedShuffleSplit(y)\n",
      "    predictions = []\n",
      "    labels = []\n",
      "    allweights = []\n",
      "    for train,test in cv:\n",
      "        # calculate weights\n",
      "        weight = len(y[train])/sum(y[train])\n",
      "        weights = np.array([weight if i == 1 else 1 for i in y[train]])\n",
      "        model.fit(X[train],y[train],clf__sample_weight=weights)\n",
      "        predictions.append(model.predict_proba(X[test]))\n",
      "        weight = len(y[test])/sum(y[test])\n",
      "        weights = np.array([weight if i == 1 else 1 for i in y[test]])\n",
      "        allweights.append(weights)\n",
      "        labels.append(y[test])\n",
      "    predictions = np.vstack(predictions)[:,1]\n",
      "    labels = np.hstack(labels)\n",
      "    weights = np.hstack(allweights)\n",
      "    return predictions,labels,weights"
     ],
     "language": "python",
     "metadata": {},
     "outputs": [],
     "prompt_number": 45
    },
    {
     "cell_type": "code",
     "collapsed": false,
     "input": [
      "p,l,w = subjpredictions(list(subjects)[0],model,data)"
     ],
     "language": "python",
     "metadata": {},
     "outputs": [],
     "prompt_number": 47
    },
    {
     "cell_type": "code",
     "collapsed": false,
     "input": [
      "sklearn.metrics.roc_auc_score(l,p)"
     ],
     "language": "python",
     "metadata": {},
     "outputs": [
      {
       "metadata": {},
       "output_type": "pyout",
       "prompt_number": 48,
       "text": [
        "0.96511111111111114"
       ]
      }
     ],
     "prompt_number": 48
    },
    {
     "cell_type": "code",
     "collapsed": false,
     "input": [
      "fpr,tpr,thresholds = sklearn.metrics.roc_curve(l,p)\n",
      "plt.plot(fpr,tpr)"
     ],
     "language": "python",
     "metadata": {},
     "outputs": [
      {
       "metadata": {},
       "output_type": "pyout",
       "prompt_number": 49,
       "text": [
        "[<matplotlib.lines.Line2D at 0x7fe928034518>]"
       ]
      },
      {
       "metadata": {},
       "output_type": "display_data",
       "png": "[encoded data removed]",
       "text": [
        "<matplotlib.figure.Figure at 0x7fe929798a20>"
       ]
      }
     ],
     "prompt_number": 49
    },
    {
     "cell_type": "markdown",
     "metadata": {},
     "source": [
      "It certainly works a bit better than the classifier I was working with before.\n",
      "What if we increase the number of estimators to deal with the much larger number of features?"
     ]
    },
    {
     "cell_type": "code",
     "collapsed": false,
     "input": [
      "model.set_params(clf__n_estimators=5000)"
     ],
     "language": "python",
     "metadata": {},
     "outputs": [
      {
       "metadata": {},
       "output_type": "pyout",
       "prompt_number": 51,
       "text": [
        "Pipeline(steps=[('sel', SelectKBest(k=3000, score_func=<function f_classif at 0x7fe939067730>)), ('scl', StandardScaler(copy=True, with_mean=True, with_std=True)), ('clf', RandomForestClassifier(bootstrap=True, compute_importances=None,\n",
        "            criterion='gini', max_depth=None, max_features='auto',\n",
        "            max_leaf_nodes=None, min_density=None, min_samples_leaf=1,\n",
        "            min_samples_split=2, n_estimators=5000, n_jobs=1,\n",
        "            oob_score=False, random_state=None, verbose=0))])"
       ]
      }
     ],
     "prompt_number": 51
    },
    {
     "cell_type": "code",
     "collapsed": false,
     "input": [
      "%%time\n",
      "p,l,w = subjpredictions(list(subjects)[0],model,data)"
     ],
     "language": "python",
     "metadata": {},
     "outputs": [
      {
       "output_type": "stream",
       "stream": "stdout",
       "text": [
        "CPU times: user 2min 30s, sys: 36.3 s, total: 3min 6s\n",
        "Wall time: 3min 6s\n"
       ]
      }
     ],
     "prompt_number": 53
    },
    {
     "cell_type": "code",
     "collapsed": false,
     "input": [
      "sklearn.metrics.roc_auc_score(l,p)"
     ],
     "language": "python",
     "metadata": {},
     "outputs": [
      {
       "metadata": {},
       "output_type": "pyout",
       "prompt_number": 54,
       "text": [
        "0.99296296296296305"
       ]
      }
     ],
     "prompt_number": 54
    },
    {
     "cell_type": "code",
     "collapsed": false,
     "input": [
      "fpr,tpr,thresholds = sklearn.metrics.roc_curve(l,p)\n",
      "plt.plot(fpr,tpr)"
     ],
     "language": "python",
     "metadata": {},
     "outputs": [
      {
       "metadata": {},
       "output_type": "pyout",
       "prompt_number": 55,
       "text": [
        "[<matplotlib.lines.Line2D at 0x7fe927f4ecc0>]"
       ]
      },
      {
       "metadata": {},
       "output_type": "display_data",
       "png": "[encoded data removed]",
       "text": [
        "<matplotlib.figure.Figure at 0x7fe92ad42780>"
       ]
      }
     ],
     "prompt_number": 55
    },
    {
     "cell_type": "markdown",
     "metadata": {},
     "source": [
      "Actually, it looks like I could probably just run this in the notebook, and it'd probably be fine.\n",
      "Will write the script after doing this."
     ]
    },
    {
     "cell_type": "code",
     "collapsed": false,
     "input": [
      "features = list(data.keys())"
     ],
     "language": "python",
     "metadata": {},
     "outputs": [],
     "prompt_number": 56
    },
    {
     "cell_type": "code",
     "collapsed": false,
     "input": [
      "%%time\n",
      "predictiondict = {}\n",
      "for subj in subjects:\n",
      "    # training step\n",
      "    X,y = utils.build_training(subj,features,data)\n",
      "    # weights\n",
      "    weight = len(y)/sum(y)\n",
      "    weights = np.array([weight if i == 1 else 1 for i in y])\n",
      "    model.fit(X,y,clf__sample_weight=weights)\n",
      "    # prediction step\n",
      "    X,segments = utils.build_test(subj,features,data)\n",
      "    predictions = model.predict_proba(X)\n",
      "    for segment,prediction in zip(segments,predictions):\n",
      "        predictiondict[segment] = prediction"
     ],
     "language": "python",
     "metadata": {},
     "outputs": [
      {
       "output_type": "stream",
       "stream": "stderr",
       "text": [
        "/home/gavin/.local/lib/python3.4/site-packages/sklearn/feature_selection/univariate_selection.py:106: RuntimeWarning: invalid value encountered in true_divide\n",
        "  f = msb / msw\n",
        "/home/gavin/.local/lib/python3.4/site-packages/sklearn/feature_selection/univariate_selection.py:106: RuntimeWarning: invalid value encountered in true_divide\n",
        "  f = msb / msw\n"
       ]
      },
      {
       "output_type": "stream",
       "stream": "stdout",
       "text": [
        "CPU times: user 5min 48s, sys: 1min 1s, total: 6min 50s\n",
        "Wall time: 8min 22s\n"
       ]
      },
      {
       "output_type": "stream",
       "stream": "stderr",
       "text": [
        "/home/gavin/.local/lib/python3.4/site-packages/sklearn/feature_selection/univariate_selection.py:106: RuntimeWarning: invalid value encountered in true_divide\n",
        "  f = msb / msw\n"
       ]
      }
     ],
     "prompt_number": 57
    },
    {
     "cell_type": "code",
     "collapsed": false,
     "input": [
      "import csv"
     ],
     "language": "python",
     "metadata": {},
     "outputs": [],
     "prompt_number": 58
    },
    {
     "cell_type": "code",
     "collapsed": false,
     "input": [
      "with open(\"output/protosubmission.csv\",\"w\") as f:\n",
      "    c = csv.writer(f)\n",
      "    c.writerow(['clip','preictal'])\n",
      "    for seg in predictiondict.keys():\n",
      "        c.writerow([seg,\"%s\"%predictiondict[seg][-1]])"
     ],
     "language": "python",
     "metadata": {},
     "outputs": [],
     "prompt_number": 59
    },
    {
     "cell_type": "markdown",
     "metadata": {},
     "source": [
      "Submitting now, and got approximately 0.4, _worse than all zeros_.\n",
      "How did that happen? \n",
      "Something to do with the warnings above, possibly?\n",
      "\n",
      "Checking if there's anything obviously weird with the output file:"
     ]
    },
    {
     "cell_type": "code",
     "collapsed": false,
     "input": [
      "!head output/protosubmission.csv"
     ],
     "language": "python",
     "metadata": {},
     "outputs": [
      {
       "output_type": "stream",
       "stream": "stdout",
       "text": [
        "clip,preictal\r",
        "\r\n",
        "Dog_1_test_segment_0191.mat,0.0856\r",
        "\r\n",
        "Dog_4_test_segment_0893.mat,0.1334\r",
        "\r\n",
        "Patient_1_test_segment_0105.mat,0.144\r",
        "\r\n",
        "Dog_3_test_segment_0339.mat,0.08\r",
        "\r\n",
        "Dog_4_test_segment_0464.mat,0.1462\r",
        "\r\n",
        "Dog_5_test_segment_0068.mat,0.1742\r",
        "\r\n",
        "Dog_4_test_segment_0810.mat,0.141\r",
        "\r\n",
        "Dog_4_test_segment_0324.mat,0.141\r",
        "\r\n",
        "Dog_4_test_segment_0525.mat,0.1398\r",
        "\r\n"
       ]
      }
     ],
     "prompt_number": 60
    },
    {
     "cell_type": "markdown",
     "metadata": {},
     "source": [
      "Nope, looks ok.\n",
      "\n",
      "There are three warnings above, so this problem is only occurring on three of the subjects.\n",
      "Could run each subject individually and try to find one where the ROC completely falls apart."
     ]
    },
    {
     "cell_type": "code",
     "collapsed": false,
     "input": [
      "%%time\n",
      "for s in subjects:\n",
      "    p,l,w = subjpredictions(s,model,data)\n",
      "    print(\"subject %s\"%s, sklearn.metrics.roc_auc_score(l,p,sample_weight=w))"
     ],
     "language": "python",
     "metadata": {},
     "outputs": []
    },
    {
     "cell_type": "markdown",
     "metadata": {},
     "source": [
      "Simple solution is apparently to [run a variance threshold](https://github.com/scikit-learn/scikit-learn/issues/3624) before running the feature selection (like it says on the wiki really)."
     ]
    },
    {
     "cell_type": "code",
     "collapsed": false,
     "input": [
      "thresh = sklearn.feature_selection.VarianceThreshold()\n",
      "selection = sklearn.feature_selection.SelectKBest(sklearn.feature_selection.f_classif,k=3000)\n",
      "scaler = sklearn.preprocessing.StandardScaler()\n",
      "forest = sklearn.ensemble.RandomForestClassifier()\n",
      "model = sklearn.pipeline.Pipeline([('thr',thresh),('sel',selection),('scl',scaler),('clf',forest)])"
     ],
     "language": "python",
     "metadata": {},
     "outputs": [],
     "prompt_number": 62
    },
    {
     "cell_type": "code",
     "collapsed": false,
     "input": [
      "%%time\n",
      "predictiondict = {}\n",
      "for subj in subjects:\n",
      "    # training step\n",
      "    X,y = utils.build_training(subj,features,data)\n",
      "    # weights\n",
      "    weight = len(y)/sum(y)\n",
      "    weights = np.array([weight if i == 1 else 1 for i in y])\n",
      "    model.fit(X,y,clf__sample_weight=weights)\n",
      "    # prediction step\n",
      "    X,segments = utils.build_test(subj,features,data)\n",
      "    predictions = model.predict_proba(X)\n",
      "    for segment,prediction in zip(segments,predictions):\n",
      "        predictiondict[segment] = prediction"
     ],
     "language": "python",
     "metadata": {},
     "outputs": [
      {
       "output_type": "stream",
       "stream": "stdout",
       "text": [
        "CPU times: user 2min 14s, sys: 47 s, total: 3min 1s\n",
        "Wall time: 4min 58s\n"
       ]
      }
     ],
     "prompt_number": 63
    },
    {
     "cell_type": "code",
     "collapsed": false,
     "input": [
      "with open(\"output/protosubmission.csv\",\"w\") as f:\n",
      "    c = csv.writer(f)\n",
      "    c.writerow(['clip','preictal'])\n",
      "    for seg in predictiondict.keys():\n",
      "        c.writerow([seg,\"%s\"%predictiondict[seg][-1]])"
     ],
     "language": "python",
     "metadata": {},
     "outputs": [],
     "prompt_number": 64
    }
   ],
   "metadata": {}
  }
 ]
}