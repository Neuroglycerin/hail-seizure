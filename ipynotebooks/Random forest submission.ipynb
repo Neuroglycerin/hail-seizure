{
 "metadata": {
  "name": "",
  "signature": "sha256:dc7bd3d27d29105cc2725e4e9dfcec3e69047502f12c81dd4679f99495ee1e1f"
 },
 "nbformat": 3,
 "nbformat_minor": 0,
 "worksheets": [
  {
   "cells": [
    {
     "cell_type": "markdown",
     "metadata": {},
     "source": [
      "Updating this to match what was found when trying to mimic their test.\n",
      "Was able to improve the performance by weighting.\n",
      "Now, going to try some simple feature selection on the entire featureset and see if performance can be improved further."
     ]
    },
    {
     "cell_type": "code",
     "collapsed": false,
     "input": [
      "import matplotlib\n",
      "import matplotlib.pyplot as plt\n",
      "import numpy as np"
     ],
     "language": "python",
     "metadata": {},
     "outputs": [],
     "prompt_number": 1
    },
    {
     "cell_type": "code",
     "collapsed": false,
     "input": [
      "%matplotlib inline\n",
      "plt.rcParams['figure.figsize'] = 6, 4.5\n",
      "plt.rcParams['axes.grid'] = True\n",
      "plt.gray()"
     ],
     "language": "python",
     "metadata": {},
     "outputs": [
      {
       "metadata": {},
       "output_type": "display_data",
       "text": [
        "<matplotlib.figure.Figure at 0x7fe98c649438>"
       ]
      }
     ],
     "prompt_number": 2
    },
    {
     "cell_type": "markdown",
     "metadata": {},
     "source": [
      "# Loading the data\n",
      "\n",
      "As before, loading the data.\n",
      "But, now there's more data to load."
     ]
    },
    {
     "cell_type": "code",
     "collapsed": false,
     "input": [
      "cd .."
     ],
     "language": "python",
     "metadata": {},
     "outputs": [
      {
       "output_type": "stream",
       "stream": "stdout",
       "text": [
        "/home/gavin/repositories/hail-seizure\n"
       ]
      }
     ],
     "prompt_number": 3
    },
    {
     "cell_type": "code",
     "collapsed": false,
     "input": [
      "import train\n",
      "import json\n",
      "import imp"
     ],
     "language": "python",
     "metadata": {},
     "outputs": [],
     "prompt_number": 4
    },
    {
     "cell_type": "code",
     "collapsed": false,
     "input": [
      "settings = json.load(open('SETTINGS.json', 'r'))"
     ],
     "language": "python",
     "metadata": {},
     "outputs": [],
     "prompt_number": 5
    },
    {
     "cell_type": "code",
     "collapsed": false,
     "input": [
      "settings['FEATURES']"
     ],
     "language": "python",
     "metadata": {},
     "outputs": [
      {
       "metadata": {},
       "output_type": "pyout",
       "prompt_number": 6,
       "text": [
        "['ica_feat_var_',\n",
        " 'ica_feat_cov_',\n",
        " 'ica_feat_corrcoef_',\n",
        " 'ica_feat_pib_',\n",
        " 'ica_feat_xcorr_',\n",
        " 'ica_feat_psd_',\n",
        " 'ica_feat_psd_logf_',\n",
        " 'ica_feat_coher_',\n",
        " 'ica_feat_coher_logf_',\n",
        " 'raw_feat_var_',\n",
        " 'raw_feat_cov_',\n",
        " 'raw_feat_corrcoef_',\n",
        " 'raw_feat_pib_',\n",
        " 'raw_feat_xcorr_',\n",
        " 'raw_feat_psd_',\n",
        " 'raw_feat_psd_logf_']"
       ]
      }
     ],
     "prompt_number": 6
    },
    {
     "cell_type": "code",
     "collapsed": false,
     "input": [
      "data = train.utils.get_data(settings['FEATURES'],settings)"
     ],
     "language": "python",
     "metadata": {},
     "outputs": [],
     "prompt_number": 9
    },
    {
     "cell_type": "code",
     "collapsed": false,
     "input": [
      "!free -m"
     ],
     "language": "python",
     "metadata": {},
     "outputs": [
      {
       "output_type": "stream",
       "stream": "stdout",
       "text": [
        "             total       used       free     shared    buffers     cached\r\n",
        "Mem:         11933      11699        233        440       1399       2352\r\n",
        "-/+ buffers/cache:       7948       3984\r\n",
        "Swap:        12287         50      12237\r\n"
       ]
      }
     ],
     "prompt_number": 10
    },
    {
     "cell_type": "markdown",
     "metadata": {},
     "source": [
      "# Developing training script\n",
      "\n",
      "It's not generally a good idea to run anything that's going to take a long time in an IPython notebook.\n",
      "The thing can freeze, or if it's disconnected lose work.\n",
      "Going to develop a script here that can be run locally or on salmon."
     ]
    },
    {
     "cell_type": "code",
     "collapsed": false,
     "input": [
      "# getting a set of the subjects involved\n",
      "subjects = set(list(data.values())[0].keys())\n",
      "print(subjects)"
     ],
     "language": "python",
     "metadata": {},
     "outputs": [
      {
       "output_type": "stream",
       "stream": "stdout",
       "text": [
        "{'Dog_4', 'Patient_1', 'Dog_3', 'Patient_2', 'Dog_2', 'Dog_1', 'Dog_5'}\n"
       ]
      }
     ],
     "prompt_number": 11
    },
    {
     "cell_type": "code",
     "collapsed": false,
     "input": [
      "import sklearn.preprocessing\n",
      "import sklearn.pipeline\n",
      "import sklearn.ensemble\n",
      "import sklearn.cross_validation\n",
      "from train import utils"
     ],
     "language": "python",
     "metadata": {},
     "outputs": [],
     "prompt_number": 12
    },
    {
     "cell_type": "markdown",
     "metadata": {},
     "source": [
      "## Feature selection\n",
      "\n",
      "We want to do some simple feature selection, as even with a massive amount of RAM available there's no point in using features that are obviously useless.\n",
      "The first suggestion for this is a [variance threshold][vt], removing features with low variances.\n",
      "\n",
      "[vt]: http://scikit-learn.org/stable/modules/feature_selection.html"
     ]
    },
    {
     "cell_type": "code",
     "collapsed": false,
     "input": [
      "X,y,cv,segments = utils.build_training(list(subjects)[0],list(data.keys()),data)"
     ],
     "language": "python",
     "metadata": {},
     "outputs": [],
     "prompt_number": 13
    },
    {
     "cell_type": "markdown",
     "metadata": {},
     "source": [
      "Something must have changed in the data since the last time I ran this script, because this used to work:"
     ]
    },
    {
     "cell_type": "code",
     "collapsed": false,
     "input": [
      "h=plt.hist(np.log10(np.var(X,axis=0)))"
     ],
     "language": "python",
     "metadata": {},
     "outputs": [
      {
       "output_type": "stream",
       "stream": "stderr",
       "text": [
        "-c:1: RuntimeWarning: divide by zero encountered in log10\n",
        "/usr/lib/python3.4/site-packages/numpy/core/function_base.py:97: RuntimeWarning: invalid value encountered in multiply\n",
        "  y = _nx.arange(0, num, dtype=dtype) * step + start\n"
       ]
      },
      {
       "output_type": "stream",
       "stream": "stderr",
       "text": [
        "/usr/lib/python3.4/site-packages/numpy/core/function_base.py:97: RuntimeWarning: invalid value encountered in add\n",
        "  y = _nx.arange(0, num, dtype=dtype) * step + start\n"
       ]
      },
      {
       "metadata": {},
       "output_type": "display_data",
       "png": "[encoded data removed]",
       "text": [
        "<matplotlib.figure.Figure at 0x7f4c02da9a58>"
       ]
      }
     ],
     "prompt_number": 14
    },
    {
     "cell_type": "markdown",
     "metadata": {},
     "source": [
      "However, I don't really like this much, as low variance doesn't mean that there won't be information there.\n",
      "After all, variance scales with the multiplicative constants.\n",
      "\n",
      "A better approach is scikit-learns SelectKBest, which can use $\\chi^2$ or ANOVA f-values.\n",
      "Can't use $\\chi^2$ as demands non-negative features.\n",
      "Trying each down to the 50 best and attempting to plot in 2d with PCA:"
     ]
    },
    {
     "cell_type": "code",
     "collapsed": false,
     "input": [
      "import sklearn.feature_selection"
     ],
     "language": "python",
     "metadata": {},
     "outputs": [],
     "prompt_number": 13
    },
    {
     "cell_type": "code",
     "collapsed": false,
     "input": [
      "Xbest = sklearn.feature_selection.SelectKBest(sklearn.feature_selection.f_classif, k=50).fit_transform(X,y)"
     ],
     "language": "python",
     "metadata": {},
     "outputs": [],
     "prompt_number": 30
    },
    {
     "cell_type": "code",
     "collapsed": false,
     "input": [
      "import sklearn.decomposition"
     ],
     "language": "python",
     "metadata": {},
     "outputs": [],
     "prompt_number": 14
    },
    {
     "cell_type": "code",
     "collapsed": false,
     "input": [
      "pca = sklearn.decomposition.PCA(n_components=2)\n",
      "scaler = sklearn.preprocessing.StandardScaler()\n",
      "twodX = pca.fit_transform(scaler.fit_transform(Xbest))\n",
      "plt.scatter(twodX[:,0][y==1],twodX[:,1][y==1],c='blue')\n",
      "plt.scatter(twodX[:,0][y==0],twodX[:,1][y==0],c='red')"
     ],
     "language": "python",
     "metadata": {},
     "outputs": [
      {
       "metadata": {},
       "output_type": "pyout",
       "prompt_number": 40,
       "text": [
        "<matplotlib.collections.PathCollection at 0x7fe929030518>"
       ]
      },
      {
       "metadata": {},
       "output_type": "display_data",
       "png": "[encoded data removed]",
       "text": [
        "<matplotlib.figure.Figure at 0x7fe9377dc080>"
       ]
      }
     ],
     "prompt_number": 40
    },
    {
     "cell_type": "markdown",
     "metadata": {},
     "source": [
      "Looking good, now doing the same with the magical t-SNE:"
     ]
    },
    {
     "cell_type": "code",
     "collapsed": false,
     "input": [
      "import sklearn.manifold"
     ],
     "language": "python",
     "metadata": {},
     "outputs": [],
     "prompt_number": 41
    },
    {
     "cell_type": "code",
     "collapsed": false,
     "input": [
      "tsne = sklearn.manifold.TSNE()\n",
      "twodX = tsne.fit_transform(scaler.fit_transform(Xbest))\n",
      "plt.scatter(twodX[:,0][y==1],twodX[:,1][y==1],c='blue')\n",
      "plt.scatter(twodX[:,0][y==0],twodX[:,1][y==0],c='red')"
     ],
     "language": "python",
     "metadata": {},
     "outputs": [
      {
       "metadata": {},
       "output_type": "pyout",
       "prompt_number": 42,
       "text": [
        "<matplotlib.collections.PathCollection at 0x7fe928042d30>"
       ]
      },
      {
       "metadata": {},
       "output_type": "display_data",
       "png": "[encoded data removed]",
       "text": [
        "<matplotlib.figure.Figure at 0x7fe9290192b0>"
       ]
      }
     ],
     "prompt_number": 42
    },
    {
     "cell_type": "markdown",
     "metadata": {},
     "source": [
      "Also looking good.\n",
      "So, all we do is add the selection to our model and then also turn the `n_estimators` up and we should get a better prediction."
     ]
    },
    {
     "cell_type": "code",
     "collapsed": false,
     "input": [
      "selection = sklearn.feature_selection.SelectKBest(sklearn.feature_selection.f_classif,k='all')\n",
      "scaler = sklearn.preprocessing.StandardScaler()\n",
      "forest = sklearn.ensemble.RandomForestClassifier()\n",
      "model = sklearn.pipeline.Pipeline([('sel',selection),('scl',scaler),('clf',forest)])"
     ],
     "language": "python",
     "metadata": {},
     "outputs": [],
     "prompt_number": 15
    },
    {
     "cell_type": "markdown",
     "metadata": {},
     "source": [
      "Testing this model on this single subject:"
     ]
    },
    {
     "cell_type": "code",
     "collapsed": false,
     "input": [
      "import imp"
     ],
     "language": "python",
     "metadata": {},
     "outputs": [],
     "prompt_number": 16
    },
    {
     "cell_type": "code",
     "collapsed": false,
     "input": [
      "imp.reload(utils)"
     ],
     "language": "python",
     "metadata": {},
     "outputs": [
      {
       "metadata": {},
       "output_type": "pyout",
       "prompt_number": 23,
       "text": [
        "<module 'python.utils' from '/home/gavin/repositories/hail-seizure/python/utils.py'>"
       ]
      }
     ],
     "prompt_number": 23
    },
    {
     "cell_type": "code",
     "collapsed": false,
     "input": [
      "def subjpredictions(subject,model,data):\n",
      "    X,y,cv,segments = utils.build_training(subject,list(data.keys()),data)\n",
      "    predictions = []\n",
      "    labels = []\n",
      "    allweights = []\n",
      "    for train,test in cv:\n",
      "        # calculate weights\n",
      "        weight = len(y[train])/sum(y[train])\n",
      "        weights = np.array([weight if i == 1 else 1 for i in y[train]])\n",
      "        model.fit(X[train],y[train],clf__sample_weight=weights)\n",
      "        predictions.append(model.predict_proba(X[test]))\n",
      "        weight = len(y[test])/sum(y[test])\n",
      "        weights = np.array([weight if i == 1 else 1 for i in y[test]])\n",
      "        allweights.append(weights)\n",
      "        labels.append(y[test])\n",
      "    predictions = np.vstack(predictions)[:,1]\n",
      "    labels = np.hstack(labels)\n",
      "    weights = np.hstack(allweights)\n",
      "    return predictions,labels,weights"
     ],
     "language": "python",
     "metadata": {},
     "outputs": [],
     "prompt_number": 24
    },
    {
     "cell_type": "code",
     "collapsed": false,
     "input": [
      "%%time\n",
      "p,l,w = subjpredictions(list(subjects)[0],model,data)"
     ],
     "language": "python",
     "metadata": {},
     "outputs": [
      {
       "output_type": "stream",
       "stream": "stdout",
       "text": [
        "CPU times: user 26.8 s, sys: 1min 17s, total: 1min 44s\n",
        "Wall time: 1min 44s\n"
       ]
      }
     ],
     "prompt_number": 25
    },
    {
     "cell_type": "code",
     "collapsed": false,
     "input": [
      "sklearn.metrics.roc_auc_score(l,p)"
     ],
     "language": "python",
     "metadata": {},
     "outputs": [
      {
       "metadata": {},
       "output_type": "pyout",
       "prompt_number": 26,
       "text": [
        "0.72120888746926837"
       ]
      }
     ],
     "prompt_number": 26
    },
    {
     "cell_type": "code",
     "collapsed": false,
     "input": [
      "sklearn.metrics.roc_auc_score(l,p,sample_weight=w)"
     ],
     "language": "python",
     "metadata": {},
     "outputs": [
      {
       "metadata": {},
       "output_type": "pyout",
       "prompt_number": 27,
       "text": [
        "0.72106667463046414"
       ]
      }
     ],
     "prompt_number": 27
    },
    {
     "cell_type": "code",
     "collapsed": false,
     "input": [
      "fpr,tpr,thresholds = sklearn.metrics.roc_curve(l,p,sample_weight=w)\n",
      "plt.plot(fpr,tpr)"
     ],
     "language": "python",
     "metadata": {},
     "outputs": [
      {
       "metadata": {},
       "output_type": "pyout",
       "prompt_number": 28,
       "text": [
        "[<matplotlib.lines.Line2D at 0x7fe9170e0b00>]"
       ]
      },
      {
       "metadata": {},
       "output_type": "display_data",
       "png": "[encoded data removed]",
       "text": [
        "<matplotlib.figure.Figure at 0x7fe917157f28>"
       ]
      }
     ],
     "prompt_number": 28
    },
    {
     "cell_type": "markdown",
     "metadata": {},
     "source": [
      "It certainly works a bit better than the classifier I was working with before.\n",
      "What if we increase the number of estimators to deal with the much larger number of features?"
     ]
    },
    {
     "cell_type": "code",
     "collapsed": false,
     "input": [
      "model.set_params(clf__n_estimators=5000,clf__max_depth=None)"
     ],
     "language": "python",
     "metadata": {},
     "outputs": [
      {
       "metadata": {},
       "output_type": "pyout",
       "prompt_number": 29,
       "text": [
        "Pipeline(steps=[('sel', SelectKBest(k='all', score_func=<function f_classif at 0x7fe9835af268>)), ('scl', StandardScaler(copy=True, with_mean=True, with_std=True)), ('clf', RandomForestClassifier(bootstrap=True, compute_importances=None,\n",
        "            criterion='gini', max_depth=None, max_features='auto',\n",
        "            max_leaf_nodes=None, min_density=None, min_samples_leaf=1,\n",
        "            min_samples_split=2, n_estimators=5000, n_jobs=1,\n",
        "            oob_score=False, random_state=None, verbose=0))])"
       ]
      }
     ],
     "prompt_number": 29
    },
    {
     "cell_type": "code",
     "collapsed": false,
     "input": [
      "%%time\n",
      "p,l,w = subjpredictions(list(subjects)[0],model,data)"
     ],
     "language": "python",
     "metadata": {},
     "outputs": [
      {
       "output_type": "stream",
       "stream": "stdout",
       "text": [
        "CPU times: user 27min 43s, sys: 53.3 s, total: 28min 36s\n",
        "Wall time: 28min 35s\n"
       ]
      }
     ],
     "prompt_number": 39
    },
    {
     "cell_type": "code",
     "collapsed": false,
     "input": [
      "sklearn.metrics.roc_auc_score(l,p)"
     ],
     "language": "python",
     "metadata": {},
     "outputs": [
      {
       "metadata": {},
       "output_type": "pyout",
       "prompt_number": 42,
       "text": [
        "0.78421005450372916"
       ]
      }
     ],
     "prompt_number": 42
    },
    {
     "cell_type": "code",
     "collapsed": false,
     "input": [
      "fpr,tpr,thresholds = sklearn.metrics.roc_curve(l,p)\n",
      "plt.plot(fpr,tpr)"
     ],
     "language": "python",
     "metadata": {},
     "outputs": [
      {
       "metadata": {},
       "output_type": "pyout",
       "prompt_number": 43,
       "text": [
        "[<matplotlib.lines.Line2D at 0x7fe916f66b00>]"
       ]
      },
      {
       "metadata": {},
       "output_type": "display_data",
       "png": "[encoded data removed]",
       "text": [
        "<matplotlib.figure.Figure at 0x7fe916d39908>"
       ]
      }
     ],
     "prompt_number": 43
    },
    {
     "cell_type": "markdown",
     "metadata": {},
     "source": [
      "Actually, it looks like I could probably just run this in the notebook, and it'd probably be fine.\n",
      "Will write the script after doing this."
     ]
    },
    {
     "cell_type": "code",
     "collapsed": false,
     "input": [
      "imp.reload(utils)"
     ],
     "language": "python",
     "metadata": {},
     "outputs": [
      {
       "metadata": {},
       "output_type": "pyout",
       "prompt_number": 38,
       "text": [
        "<module 'python.utils' from '/home/gavin/repositories/hail-seizure/python/utils.py'>"
       ]
      }
     ],
     "prompt_number": 38
    },
    {
     "cell_type": "code",
     "collapsed": false,
     "input": [
      "features = list(data.keys())"
     ],
     "language": "python",
     "metadata": {},
     "outputs": [],
     "prompt_number": 34
    },
    {
     "cell_type": "code",
     "collapsed": false,
     "input": [
      "model.set_params(clf__n_estimators=5000,clf__max_depth=None)"
     ],
     "language": "python",
     "metadata": {},
     "outputs": [
      {
       "metadata": {},
       "output_type": "pyout",
       "prompt_number": 35,
       "text": [
        "Pipeline(steps=[('sel', SelectKBest(k='all', score_func=<function f_classif at 0x7fe9835af268>)), ('scl', StandardScaler(copy=True, with_mean=True, with_std=True)), ('clf', RandomForestClassifier(bootstrap=True, compute_importances=None,\n",
        "            criterion='gini', max_depth=None, max_features='auto',\n",
        "            max_leaf_nodes=None, min_density=None, min_samples_leaf=1,\n",
        "            min_samples_split=2, n_estimators=5000, n_jobs=1,\n",
        "            oob_score=False, random_state=None, verbose=0))])"
       ]
      }
     ],
     "prompt_number": 35
    },
    {
     "cell_type": "code",
     "collapsed": false,
     "input": [
      "%%time\n",
      "predictiondict = {}\n",
      "for subj in subjects:\n",
      "    # training step\n",
      "    X,y,cv,segments = utils.build_training(subj,features,data)\n",
      "    # weights\n",
      "    weight = len(y)/sum(y)\n",
      "    weights = np.array([weight if i == 1 else 1 for i in y])\n",
      "    model.fit(X,y,clf__sample_weight=weights)\n",
      "    # prediction step\n",
      "    X,segments = utils.build_test(subj,features,data)\n",
      "    predictions = model.predict_proba(X)\n",
      "    for segment,prediction in zip(segments,predictions):\n",
      "        predictiondict[segment] = prediction"
     ],
     "language": "python",
     "metadata": {},
     "outputs": [
      {
       "ename": "KeyboardInterrupt",
       "evalue": "",
       "output_type": "pyerr",
       "traceback": [
        "\u001b[1;31m---------------------------------------------------------------------------\u001b[0m\n\u001b[1;31mKeyboardInterrupt\u001b[0m                         Traceback (most recent call last)",
        "\u001b[1;32m<ipython-input-36-62d772764485>\u001b[0m in \u001b[0;36m<module>\u001b[1;34m()\u001b[0m\n\u001b[1;32m----> 1\u001b[1;33m \u001b[0mget_ipython\u001b[0m\u001b[1;33m(\u001b[0m\u001b[1;33m)\u001b[0m\u001b[1;33m.\u001b[0m\u001b[0mrun_cell_magic\u001b[0m\u001b[1;33m(\u001b[0m\u001b[1;34m'time'\u001b[0m\u001b[1;33m,\u001b[0m \u001b[1;34m''\u001b[0m\u001b[1;33m,\u001b[0m \u001b[1;34m'predictiondict = {}\\nfor subj in subjects:\\n    # training step\\n    X,y,cv,segments = utils.build_training(subj,features,data)\\n    # weights\\n    weight = len(y)/sum(y)\\n    weights = np.array([weight if i == 1 else 1 for i in y])\\n    model.fit(X,y,clf__sample_weight=weights)\\n    # prediction step\\n    X,segments = utils.build_test(subj,features,data)\\n    predictions = model.predict_proba(X)\\n    for segment,prediction in zip(segments,predictions):\\n        predictiondict[segment] = prediction'\u001b[0m\u001b[1;33m)\u001b[0m\u001b[1;33m\u001b[0m\u001b[0m\n\u001b[0m",
        "\u001b[1;32m/usr/lib/python3.4/site-packages/IPython/core/interactiveshell.py\u001b[0m in \u001b[0;36mrun_cell_magic\u001b[1;34m(self, magic_name, line, cell)\u001b[0m\n\u001b[0;32m   2160\u001b[0m             \u001b[0mmagic_arg_s\u001b[0m \u001b[1;33m=\u001b[0m \u001b[0mself\u001b[0m\u001b[1;33m.\u001b[0m\u001b[0mvar_expand\u001b[0m\u001b[1;33m(\u001b[0m\u001b[0mline\u001b[0m\u001b[1;33m,\u001b[0m \u001b[0mstack_depth\u001b[0m\u001b[1;33m)\u001b[0m\u001b[1;33m\u001b[0m\u001b[0m\n\u001b[0;32m   2161\u001b[0m             \u001b[1;32mwith\u001b[0m \u001b[0mself\u001b[0m\u001b[1;33m.\u001b[0m\u001b[0mbuiltin_trap\u001b[0m\u001b[1;33m:\u001b[0m\u001b[1;33m\u001b[0m\u001b[0m\n\u001b[1;32m-> 2162\u001b[1;33m                 \u001b[0mresult\u001b[0m \u001b[1;33m=\u001b[0m \u001b[0mfn\u001b[0m\u001b[1;33m(\u001b[0m\u001b[0mmagic_arg_s\u001b[0m\u001b[1;33m,\u001b[0m \u001b[0mcell\u001b[0m\u001b[1;33m)\u001b[0m\u001b[1;33m\u001b[0m\u001b[0m\n\u001b[0m\u001b[0;32m   2163\u001b[0m             \u001b[1;32mreturn\u001b[0m \u001b[0mresult\u001b[0m\u001b[1;33m\u001b[0m\u001b[0m\n\u001b[0;32m   2164\u001b[0m \u001b[1;33m\u001b[0m\u001b[0m\n",
        "\u001b[1;32m/usr/lib/python3.4/site-packages/IPython/core/magics/execution.py\u001b[0m in \u001b[0;36mtime\u001b[1;34m(self, line, cell, local_ns)\u001b[0m\n",
        "\u001b[1;32m/usr/lib/python3.4/site-packages/IPython/core/magic.py\u001b[0m in \u001b[0;36m<lambda>\u001b[1;34m(f, *a, **k)\u001b[0m\n\u001b[0;32m    191\u001b[0m     \u001b[1;31m# but it's overkill for just that one bit of state.\u001b[0m\u001b[1;33m\u001b[0m\u001b[1;33m\u001b[0m\u001b[0m\n\u001b[0;32m    192\u001b[0m     \u001b[1;32mdef\u001b[0m \u001b[0mmagic_deco\u001b[0m\u001b[1;33m(\u001b[0m\u001b[0marg\u001b[0m\u001b[1;33m)\u001b[0m\u001b[1;33m:\u001b[0m\u001b[1;33m\u001b[0m\u001b[0m\n\u001b[1;32m--> 193\u001b[1;33m         \u001b[0mcall\u001b[0m \u001b[1;33m=\u001b[0m \u001b[1;32mlambda\u001b[0m \u001b[0mf\u001b[0m\u001b[1;33m,\u001b[0m \u001b[1;33m*\u001b[0m\u001b[0ma\u001b[0m\u001b[1;33m,\u001b[0m \u001b[1;33m**\u001b[0m\u001b[0mk\u001b[0m\u001b[1;33m:\u001b[0m \u001b[0mf\u001b[0m\u001b[1;33m(\u001b[0m\u001b[1;33m*\u001b[0m\u001b[0ma\u001b[0m\u001b[1;33m,\u001b[0m \u001b[1;33m**\u001b[0m\u001b[0mk\u001b[0m\u001b[1;33m)\u001b[0m\u001b[1;33m\u001b[0m\u001b[0m\n\u001b[0m\u001b[0;32m    194\u001b[0m \u001b[1;33m\u001b[0m\u001b[0m\n\u001b[0;32m    195\u001b[0m         \u001b[1;32mif\u001b[0m \u001b[0mcallable\u001b[0m\u001b[1;33m(\u001b[0m\u001b[0marg\u001b[0m\u001b[1;33m)\u001b[0m\u001b[1;33m:\u001b[0m\u001b[1;33m\u001b[0m\u001b[0m\n",
        "\u001b[1;32m/usr/lib/python3.4/site-packages/IPython/core/magics/execution.py\u001b[0m in \u001b[0;36mtime\u001b[1;34m(self, line, cell, local_ns)\u001b[0m\n\u001b[0;32m   1127\u001b[0m         \u001b[1;32melse\u001b[0m\u001b[1;33m:\u001b[0m\u001b[1;33m\u001b[0m\u001b[0m\n\u001b[0;32m   1128\u001b[0m             \u001b[0mst\u001b[0m \u001b[1;33m=\u001b[0m \u001b[0mclock2\u001b[0m\u001b[1;33m(\u001b[0m\u001b[1;33m)\u001b[0m\u001b[1;33m\u001b[0m\u001b[0m\n\u001b[1;32m-> 1129\u001b[1;33m             \u001b[0mexec\u001b[0m\u001b[1;33m(\u001b[0m\u001b[0mcode\u001b[0m\u001b[1;33m,\u001b[0m \u001b[0mglob\u001b[0m\u001b[1;33m,\u001b[0m \u001b[0mlocal_ns\u001b[0m\u001b[1;33m)\u001b[0m\u001b[1;33m\u001b[0m\u001b[0m\n\u001b[0m\u001b[0;32m   1130\u001b[0m             \u001b[0mend\u001b[0m \u001b[1;33m=\u001b[0m \u001b[0mclock2\u001b[0m\u001b[1;33m(\u001b[0m\u001b[1;33m)\u001b[0m\u001b[1;33m\u001b[0m\u001b[0m\n\u001b[0;32m   1131\u001b[0m             \u001b[0mout\u001b[0m \u001b[1;33m=\u001b[0m \u001b[1;32mNone\u001b[0m\u001b[1;33m\u001b[0m\u001b[0m\n",
        "\u001b[1;32m<timed exec>\u001b[0m in \u001b[0;36m<module>\u001b[1;34m()\u001b[0m\n",
        "\u001b[1;32m/home/gavin/repositories/hail-seizure/python/utils.py\u001b[0m in \u001b[0;36mbuild_training\u001b[1;34m(subject, features, data, flagpseudo)\u001b[0m\n\u001b[0;32m    208\u001b[0m                 \u001b[1;32mtry\u001b[0m\u001b[1;33m:\u001b[0m\u001b[1;33m\u001b[0m\u001b[0m\n\u001b[0;32m    209\u001b[0m                     Xf = np.vstack([Xf, np.ndarray.flatten(\\\n\u001b[1;32m--> 210\u001b[1;33m                             data[feature][subject][ictal][segment].T)])\n\u001b[0m\u001b[0;32m    211\u001b[0m                 \u001b[1;32mexcept\u001b[0m \u001b[0mValueError\u001b[0m\u001b[1;33m:\u001b[0m\u001b[1;33m\u001b[0m\u001b[0m\n\u001b[0;32m    212\u001b[0m                     Xf = np.ndarray.flatten(\\\n",
        "\u001b[1;32m/usr/lib/python3.4/site-packages/numpy/core/shape_base.py\u001b[0m in \u001b[0;36mvstack\u001b[1;34m(tup)\u001b[0m\n\u001b[0;32m    226\u001b[0m \u001b[1;33m\u001b[0m\u001b[0m\n\u001b[0;32m    227\u001b[0m     \"\"\"\n\u001b[1;32m--> 228\u001b[1;33m     \u001b[1;32mreturn\u001b[0m \u001b[0m_nx\u001b[0m\u001b[1;33m.\u001b[0m\u001b[0mconcatenate\u001b[0m\u001b[1;33m(\u001b[0m\u001b[1;33m[\u001b[0m\u001b[0matleast_2d\u001b[0m\u001b[1;33m(\u001b[0m\u001b[0m_m\u001b[0m\u001b[1;33m)\u001b[0m \u001b[1;32mfor\u001b[0m \u001b[0m_m\u001b[0m \u001b[1;32min\u001b[0m \u001b[0mtup\u001b[0m\u001b[1;33m]\u001b[0m\u001b[1;33m,\u001b[0m \u001b[1;36m0\u001b[0m\u001b[1;33m)\u001b[0m\u001b[1;33m\u001b[0m\u001b[0m\n\u001b[0m\u001b[0;32m    229\u001b[0m \u001b[1;33m\u001b[0m\u001b[0m\n\u001b[0;32m    230\u001b[0m \u001b[1;32mdef\u001b[0m \u001b[0mhstack\u001b[0m\u001b[1;33m(\u001b[0m\u001b[0mtup\u001b[0m\u001b[1;33m)\u001b[0m\u001b[1;33m:\u001b[0m\u001b[1;33m\u001b[0m\u001b[0m\n",
        "\u001b[1;31mKeyboardInterrupt\u001b[0m: "
       ]
      }
     ],
     "prompt_number": 36
    },
    {
     "cell_type": "code",
     "collapsed": false,
     "input": [
      "import csv"
     ],
     "language": "python",
     "metadata": {},
     "outputs": [],
     "prompt_number": 37
    },
    {
     "cell_type": "code",
     "collapsed": false,
     "input": [
      "with open(\"output/protosubmission.csv\",\"w\") as f:\n",
      "    c = csv.writer(f)\n",
      "    c.writerow(['clip','preictal'])\n",
      "    for seg in predictiondict.keys():\n",
      "        c.writerow([seg,\"%s\"%predictiondict[seg][-1]])"
     ],
     "language": "python",
     "metadata": {},
     "outputs": [],
     "prompt_number": 38
    },
    {
     "cell_type": "markdown",
     "metadata": {},
     "source": [
      "Resubmitted and got 0.49, so reducing the depth doesn't seem to help generalisation problems. Also, it's weird that the score would be that low.\n",
      "\n",
      "Checking if there's anything obviously weird with the output file:"
     ]
    },
    {
     "cell_type": "code",
     "collapsed": false,
     "input": [
      "!head output/protosubmission.csv"
     ],
     "language": "python",
     "metadata": {},
     "outputs": [
      {
       "output_type": "stream",
       "stream": "stdout",
       "text": [
        "clip,preictal\r",
        "\r\n",
        "Dog_1_test_segment_0436.mat,0.19512291353\r",
        "\r\n",
        "Dog_3_test_segment_0043.mat,0.412056893313\r",
        "\r\n",
        "Dog_2_test_segment_0961.mat,0.197760839871\r",
        "\r\n",
        "Dog_2_test_segment_0706.mat,0.190089721256\r",
        "\r\n",
        "Dog_1_test_segment_0262.mat,0.202509616548\r",
        "\r\n",
        "Dog_1_test_segment_0249.mat,0.181059633233\r",
        "\r\n",
        "Dog_1_test_segment_0056.mat,0.187668688953\r",
        "\r\n",
        "Dog_3_test_segment_0034.mat,0.330347057693\r",
        "\r\n",
        "Dog_1_test_segment_0131.mat,0.207044903428\r",
        "\r\n"
       ]
      }
     ],
     "prompt_number": 39
    },
    {
     "cell_type": "markdown",
     "metadata": {},
     "source": [
      "Nope, looks ok.\n",
      "\n",
      "There are three warnings above, so this problem is only occurring on three of the subjects.\n",
      "Could run each subject individually and try to find one where the ROC completely falls apart."
     ]
    },
    {
     "cell_type": "code",
     "collapsed": false,
     "input": [
      "%%time\n",
      "for s in subjects:\n",
      "    p,l,w = subjpredictions(s,model,data)\n",
      "    print(\"subject %s\"%s, sklearn.metrics.roc_auc_score(l,p,sample_weight=w))"
     ],
     "language": "python",
     "metadata": {},
     "outputs": []
    },
    {
     "cell_type": "markdown",
     "metadata": {},
     "source": [
      "Simple solution is apparently to [run a variance threshold](https://github.com/scikit-learn/scikit-learn/issues/3624) before running the feature selection (like it says on the wiki really)."
     ]
    },
    {
     "cell_type": "code",
     "collapsed": false,
     "input": [
      "thresh = sklearn.feature_selection.VarianceThreshold()\n",
      "selection = sklearn.feature_selection.SelectKBest(sklearn.feature_selection.f_classif,k=3000)\n",
      "scaler = sklearn.preprocessing.StandardScaler()\n",
      "forest = sklearn.ensemble.RandomForestClassifier()\n",
      "model = sklearn.pipeline.Pipeline([('thr',thresh),('sel',selection),('scl',scaler),('clf',forest)])"
     ],
     "language": "python",
     "metadata": {},
     "outputs": [],
     "prompt_number": 62
    },
    {
     "cell_type": "code",
     "collapsed": false,
     "input": [
      "%%time\n",
      "predictiondict = {}\n",
      "for subj in subjects:\n",
      "    # training step\n",
      "    X,y = utils.build_training(subj,features,data)\n",
      "    # weights\n",
      "    weight = len(y)/sum(y)\n",
      "    weights = np.array([weight if i == 1 else 1 for i in y])\n",
      "    model.fit(X,y,clf__sample_weight=weights)\n",
      "    # prediction step\n",
      "    X,segments = utils.build_test(subj,features,data)\n",
      "    predictions = model.predict_proba(X)\n",
      "    for segment,prediction in zip(segments,predictions):\n",
      "        predictiondict[segment] = prediction"
     ],
     "language": "python",
     "metadata": {},
     "outputs": [
      {
       "output_type": "stream",
       "stream": "stdout",
       "text": [
        "CPU times: user 2min 14s, sys: 47 s, total: 3min 1s\n",
        "Wall time: 4min 58s\n"
       ]
      }
     ],
     "prompt_number": 63
    },
    {
     "cell_type": "code",
     "collapsed": false,
     "input": [
      "with open(\"output/protosubmission.csv\",\"w\") as f:\n",
      "    c = csv.writer(f)\n",
      "    c.writerow(['clip','preictal'])\n",
      "    for seg in predictiondict.keys():\n",
      "        c.writerow([seg,\"%s\"%predictiondict[seg][-1]])"
     ],
     "language": "python",
     "metadata": {},
     "outputs": [],
     "prompt_number": 64
    }
   ],
   "metadata": {}
  }
 ]
}