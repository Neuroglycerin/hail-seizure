{
 "metadata": {
  "name": "",
  "signature": "sha256:a4b508cd725e72bb0c1570e1cc46cf4f9a322a53a3f8a3977fc24421abfca5bf"
 },
 "nbformat": 3,
 "nbformat_minor": 0,
 "worksheets": [
  {
   "cells": [
    {
     "cell_type": "markdown",
     "metadata": {},
     "source": [
      "Would like to be able to sync data between our computers with google drive because it's cheap.\n",
      "Unfortunately, Google don't appear to have a client for Linux machines.\n",
      "Luckily, someone has created one called [Grive][] which works from the command line and should be good enough for us.\n",
      "\n",
      "# Installation\n",
      "\n",
      "Installed through the AUR.\n",
      "\n",
      "# Usage\n",
      "\n",
      "Usage notes are [here][griveusage].\n",
      "\n",
      "[grive]: http://www.lbreda.com/grive/start\n",
      "[griveusage]: http://www.lbreda.com/grive/usage"
     ]
    },
    {
     "cell_type": "code",
     "collapsed": false,
     "input": [
      "cd ~/drive/neuroglycerin-data/"
     ],
     "language": "python",
     "metadata": {},
     "outputs": [
      {
       "output_type": "stream",
       "stream": "stdout",
       "text": [
        "/home/gavin/drive/neuroglycerin-data\n"
       ]
      }
     ],
     "prompt_number": 2
    },
    {
     "cell_type": "code",
     "collapsed": false,
     "input": [
      "ls"
     ],
     "language": "python",
     "metadata": {},
     "outputs": [
      {
       "output_type": "stream",
       "stream": "stdout",
       "text": [
        "Dog_1.tar.gz    Dog_1.tar.gz.2  Dog_2.tar.gz  Dog_4.tar.gz  Patient_1.tar.gz\r\n",
        "Dog_1.tar.gz.1  Dog_1.tar.gz.3  Dog_3.tar.gz  Dog_5.tar.gz\r\n"
       ]
      }
     ],
     "prompt_number": 5
    },
    {
     "cell_type": "markdown",
     "metadata": {},
     "source": [
      "Currently missing `Patient_2.tar.gz`."
     ]
    },
    {
     "cell_type": "code",
     "collapsed": false,
     "input": [
      "cd .."
     ],
     "language": "python",
     "metadata": {},
     "outputs": [
      {
       "output_type": "stream",
       "stream": "stdout",
       "text": [
        "/home/gavin/drive\n"
       ]
      }
     ],
     "prompt_number": 7
    },
    {
     "cell_type": "code",
     "collapsed": false,
     "input": [
      "!grive"
     ],
     "language": "python",
     "metadata": {},
     "outputs": [
      {
       "output_type": "stream",
       "stream": "stdout",
       "text": [
        "Reading local directories\r\n"
       ]
      },
      {
       "output_type": "stream",
       "stream": "stdout",
       "text": [
        "Synchronizing folders\r\n"
       ]
      },
      {
       "output_type": "stream",
       "stream": "stdout",
       "text": [
        "Reading remote server file list\r\n"
       ]
      },
      {
       "output_type": "stream",
       "stream": "stdout",
       "text": [
        "Detecting changes from last sync\r\n"
       ]
      },
      {
       "output_type": "stream",
       "stream": "stdout",
       "text": [
        "Synchronizing files\r\n",
        "sync \"./neuroglycerin-data/Dog_1.tar.gz.1\" created in remote. creating local\r\n"
       ]
      },
      {
       "output_type": "stream",
       "stream": "stdout",
       "text": [
        "Finished!\r\n"
       ]
      }
     ],
     "prompt_number": 9
    }
   ],
   "metadata": {}
  }
 ]
}