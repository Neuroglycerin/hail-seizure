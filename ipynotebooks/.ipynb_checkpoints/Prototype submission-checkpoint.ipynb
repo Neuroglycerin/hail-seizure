{
 "metadata": {
  "name": "",
  "signature": "sha256:6d49e0cd5bca126d3956eb213822046e49f1fd1e91741c8781a45ef770e7bc1f"
 },
 "nbformat": 3,
 "nbformat_minor": 0,
 "worksheets": [
  {
   "cells": [
    {
     "cell_type": "code",
     "collapsed": false,
     "input": [
      "import matplotlib\n",
      "import matplotlib.pyplot as plt\n",
      "import numpy as np"
     ],
     "language": "python",
     "metadata": {},
     "outputs": [],
     "prompt_number": 1
    },
    {
     "cell_type": "code",
     "collapsed": false,
     "input": [
      "%matplotlib inline\n",
      "plt.rcParams['figure.figsize'] = 6, 4.5\n",
      "plt.rcParams['axes.grid'] = True\n",
      "plt.gray()"
     ],
     "language": "python",
     "metadata": {},
     "outputs": [
      {
       "metadata": {},
       "output_type": "display_data",
       "text": [
        "<matplotlib.figure.Figure at 0x7fd012b25668>"
       ]
      }
     ],
     "prompt_number": 2
    },
    {
     "cell_type": "markdown",
     "metadata": {},
     "source": [
      "The aim of this notebook is to make a submission for this competition as quickly as possible.\n",
      "Just want to get something in.\n",
      "\n",
      "# Loading the data\n",
      "\n",
      "Getting all the filenames for Dog_1 ready, going to do the analysis on this first, then iterate over the rest after that."
     ]
    },
    {
     "cell_type": "code",
     "collapsed": false,
     "input": [
      "cd ~/repositories/neuroglycerin-data/Dog_1/"
     ],
     "language": "python",
     "metadata": {},
     "outputs": [
      {
       "output_type": "stream",
       "stream": "stdout",
       "text": [
        "/home/gavin/repositories/neuroglycerin-data/Dog_1\n"
       ]
      }
     ],
     "prompt_number": 3
    },
    {
     "cell_type": "code",
     "collapsed": false,
     "input": [
      "import glob"
     ],
     "language": "python",
     "metadata": {},
     "outputs": [],
     "prompt_number": 4
    },
    {
     "cell_type": "code",
     "collapsed": false,
     "input": [
      "# grab all the filenames\n",
      "fnames = glob.glob(\"*\")"
     ],
     "language": "python",
     "metadata": {},
     "outputs": [],
     "prompt_number": 5
    },
    {
     "cell_type": "code",
     "collapsed": false,
     "input": [
      "# test file\n",
      "t = fnames[0]\n",
      "print(t)"
     ],
     "language": "python",
     "metadata": {},
     "outputs": [
      {
       "output_type": "stream",
       "stream": "stdout",
       "text": [
        "Dog_1_test_segment_0353.mat\n"
       ]
      }
     ],
     "prompt_number": 6
    },
    {
     "cell_type": "code",
     "collapsed": false,
     "input": [
      "import scipy.io"
     ],
     "language": "python",
     "metadata": {},
     "outputs": [],
     "prompt_number": 7
    },
    {
     "cell_type": "code",
     "collapsed": false,
     "input": [
      "matest = scipy.io.loadmat(t)"
     ],
     "language": "python",
     "metadata": {},
     "outputs": [],
     "prompt_number": 8
    },
    {
     "cell_type": "code",
     "collapsed": false,
     "input": [
      "matest.keys()"
     ],
     "language": "python",
     "metadata": {},
     "outputs": [
      {
       "metadata": {},
       "output_type": "pyout",
       "prompt_number": 9,
       "text": [
        "dict_keys(['__globals__', '__header__', '__version__', 'test_segment_353'])"
       ]
      }
     ],
     "prompt_number": 9
    },
    {
     "cell_type": "code",
     "collapsed": false,
     "input": [
      "matest['__version__']"
     ],
     "language": "python",
     "metadata": {},
     "outputs": [
      {
       "metadata": {},
       "output_type": "pyout",
       "prompt_number": 10,
       "text": [
        "'1.0'"
       ]
      }
     ],
     "prompt_number": 10
    },
    {
     "cell_type": "code",
     "collapsed": false,
     "input": [
      "type(matest['test_segment_353'])"
     ],
     "language": "python",
     "metadata": {},
     "outputs": [
      {
       "metadata": {},
       "output_type": "pyout",
       "prompt_number": 11,
       "text": [
        "numpy.ndarray"
       ]
      }
     ],
     "prompt_number": 11
    },
    {
     "cell_type": "code",
     "collapsed": false,
     "input": [
      "type(matest['test_segment_353'][0,0])"
     ],
     "language": "python",
     "metadata": {},
     "outputs": [
      {
       "metadata": {},
       "output_type": "pyout",
       "prompt_number": 12,
       "text": [
        "numpy.void"
       ]
      }
     ],
     "prompt_number": 12
    },
    {
     "cell_type": "code",
     "collapsed": false,
     "input": [
      "# weird, try making it an array\n",
      "data = np.array(matest['test_segment_353'][0,0])"
     ],
     "language": "python",
     "metadata": {},
     "outputs": [],
     "prompt_number": 13
    },
    {
     "cell_type": "markdown",
     "metadata": {},
     "source": [
      "So, now I'm in the situation [this guy was in][1](looks like a decent blog) and apparently I need to just _know_ the right key.\n",
      "Matlab can fuck off so much right now.\n",
      "\n",
      "[1]: http://jeremykun.com/2014/01/21/realitymining-a-case-study-in-the-woes-of-data-processing/"
     ]
    },
    {
     "cell_type": "code",
     "collapsed": false,
     "input": [
      "data.dtype"
     ],
     "language": "python",
     "metadata": {},
     "outputs": [
      {
       "metadata": {},
       "output_type": "pyout",
       "prompt_number": 14,
       "text": [
        "dtype([('data', 'O'), ('data_length_sec', 'O'), ('sampling_frequency', 'O'), ('channels', 'O')])"
       ]
      }
     ],
     "prompt_number": 14
    },
    {
     "cell_type": "code",
     "collapsed": false,
     "input": [
      "data['data']"
     ],
     "language": "python",
     "metadata": {},
     "outputs": [
      {
       "metadata": {},
       "output_type": "pyout",
       "prompt_number": 15,
       "text": [
        "array(array([[ 17,  22,  29, ..., -32, -17,   5],\n",
        "       [ 39,  17,  -2, ...,  19,  13,   0],\n",
        "       [ -9,  -5,   0, ...,  30,  33,  28],\n",
        "       ..., \n",
        "       [-19, -19, -12, ..., -24,  -2,  -5],\n",
        "       [-20, -11,   0, ...,   0,  -9, -12],\n",
        "       [-24,  -5,   3, ...,  -2, -10, -14]], dtype=int16), dtype=object)"
       ]
      }
     ],
     "prompt_number": 15
    },
    {
     "cell_type": "code",
     "collapsed": false,
     "input": [
      "data['sampling_frequency']"
     ],
     "language": "python",
     "metadata": {},
     "outputs": [
      {
       "metadata": {},
       "output_type": "pyout",
       "prompt_number": 16,
       "text": [
        "array(array([[ 399.6097561]]), dtype=object)"
       ]
      }
     ],
     "prompt_number": 16
    },
    {
     "cell_type": "code",
     "collapsed": false,
     "input": [
      "data['channels']"
     ],
     "language": "python",
     "metadata": {},
     "outputs": [
      {
       "metadata": {},
       "output_type": "pyout",
       "prompt_number": 17,
       "text": [
        "array(array([[array(['NVC1202_32_002_Ecog_c001'], \n",
        "      dtype='<U24'),\n",
        "        array(['NVC1202_32_002_Ecog_c002'], \n",
        "      dtype='<U24'),\n",
        "        array(['NVC1202_32_002_Ecog_c003'], \n",
        "      dtype='<U24'),\n",
        "        array(['NVC1202_32_002_Ecog_c004'], \n",
        "      dtype='<U24'),\n",
        "        array(['NVC1202_32_002_Ecog_c005'], \n",
        "      dtype='<U24'),\n",
        "        array(['NVC1202_32_002_Ecog_c006'], \n",
        "      dtype='<U24'),\n",
        "        array(['NVC1202_32_002_Ecog_c007'], \n",
        "      dtype='<U24'),\n",
        "        array(['NVC1202_32_002_Ecog_c008'], \n",
        "      dtype='<U24'),\n",
        "        array(['NVC1202_32_002_Ecog_c009'], \n",
        "      dtype='<U24'),\n",
        "        array(['NVC1202_32_002_Ecog_c010'], \n",
        "      dtype='<U24'),\n",
        "        array(['NVC1202_32_002_Ecog_c011'], \n",
        "      dtype='<U24'),\n",
        "        array(['NVC1202_32_002_Ecog_c012'], \n",
        "      dtype='<U24'),\n",
        "        array(['NVC1202_32_002_Ecog_c013'], \n",
        "      dtype='<U24'),\n",
        "        array(['NVC1202_32_002_Ecog_c014'], \n",
        "      dtype='<U24'),\n",
        "        array(['NVC1202_32_002_Ecog_c015'], \n",
        "      dtype='<U24'),\n",
        "        array(['NVC1202_32_002_Ecog_c016'], \n",
        "      dtype='<U24')]], dtype=object), dtype=object)"
       ]
      }
     ],
     "prompt_number": 17
    },
    {
     "cell_type": "markdown",
     "metadata": {},
     "source": [
      "Writing a function to do the above for arbitrary files:"
     ]
    },
    {
     "cell_type": "code",
     "collapsed": false,
     "input": [
      "for k in matest.keys():\n",
      "    print(k)"
     ],
     "language": "python",
     "metadata": {},
     "outputs": [
      {
       "output_type": "stream",
       "stream": "stdout",
       "text": [
        "__globals__\n",
        "__header__\n",
        "__version__\n",
        "test_segment_353\n"
       ]
      }
     ],
     "prompt_number": 18
    },
    {
     "cell_type": "code",
     "collapsed": false,
     "input": [
      "[k for k in matest.keys() if \"segment\" in k][0]"
     ],
     "language": "python",
     "metadata": {},
     "outputs": [
      {
       "metadata": {},
       "output_type": "pyout",
       "prompt_number": 19,
       "text": [
        "'test_segment_353'"
       ]
      }
     ],
     "prompt_number": 19
    },
    {
     "cell_type": "code",
     "collapsed": false,
     "input": [
      "def fuckyoumatlab(fname):\n",
      "    mat = scipy.io.loadmat(fname)\n",
      "    # assuming they'll always have segment in them\n",
      "    # I apologise for this\n",
      "    k = [k for k in mat.keys() if \"segment\" in k][0]\n",
      "    data = mat[k][0,0]\n",
      "    # I'm turning this into a dictionary\n",
      "    # just try and stop me\n",
      "    datadict = {}\n",
      "    for i in ['data','sampling_frequency']:\n",
      "        datadict[i] = data[i]\n",
      "    return datadict"
     ],
     "language": "python",
     "metadata": {},
     "outputs": [],
     "prompt_number": 27
    },
    {
     "cell_type": "code",
     "collapsed": false,
     "input": [
      "data = fuckyoumatlab(t)"
     ],
     "language": "python",
     "metadata": {},
     "outputs": [],
     "prompt_number": 28
    },
    {
     "cell_type": "code",
     "collapsed": false,
     "input": [
      "data.keys()"
     ],
     "language": "python",
     "metadata": {},
     "outputs": [
      {
       "metadata": {},
       "output_type": "pyout",
       "prompt_number": 29,
       "text": [
        "dict_keys(['sampling_frequency', 'data'])"
       ]
      }
     ],
     "prompt_number": 29
    },
    {
     "cell_type": "code",
     "collapsed": false,
     "input": [
      "data['data'].shape"
     ],
     "language": "python",
     "metadata": {},
     "outputs": [
      {
       "metadata": {},
       "output_type": "pyout",
       "prompt_number": 31,
       "text": [
        "(16, 239766)"
       ]
      }
     ],
     "prompt_number": 31
    },
    {
     "cell_type": "code",
     "collapsed": false,
     "input": [
      "data['data']"
     ],
     "language": "python",
     "metadata": {},
     "outputs": [
      {
       "metadata": {},
       "output_type": "pyout",
       "prompt_number": 33,
       "text": [
        "array([[ 17,  22,  29, ..., -32, -17,   5],\n",
        "       [ 39,  17,  -2, ...,  19,  13,   0],\n",
        "       [ -9,  -5,   0, ...,  30,  33,  28],\n",
        "       ..., \n",
        "       [-19, -19, -12, ..., -24,  -2,  -5],\n",
        "       [-20, -11,   0, ...,   0,  -9, -12],\n",
        "       [-24,  -5,   3, ...,  -2, -10, -14]], dtype=int16)"
       ]
      }
     ],
     "prompt_number": 33
    },
    {
     "cell_type": "code",
     "collapsed": false,
     "input": [
      "plt.plot(data['data'][0,0:100])"
     ],
     "language": "python",
     "metadata": {},
     "outputs": [
      {
       "metadata": {},
       "output_type": "pyout",
       "prompt_number": 32,
       "text": [
        "[<matplotlib.lines.Line2D at 0x7fd00f830588>]"
       ]
      },
      {
       "metadata": {},
       "output_type": "display_data",
       "png": "[encoded data removed]",
       "text": [
        "<matplotlib.figure.Figure at 0x7fd00ffbcba8>"
       ]
      }
     ],
     "prompt_number": 32
    },
    {
     "cell_type": "markdown",
     "metadata": {},
     "source": [
      "Finally, managed to load the data.\n",
      "\n",
      "# Processing\n",
      "\n",
      "The next thing to do will be to process the data into the simplest possible feature that might be useful.\n",
      "That's probably PSD in each band."
     ]
    },
    {
     "cell_type": "code",
     "collapsed": false,
     "input": [
      "import pylab"
     ],
     "language": "python",
     "metadata": {},
     "outputs": [],
     "prompt_number": 36
    },
    {
     "cell_type": "code",
     "collapsed": false,
     "input": [
      "x = np.linspace(0,2*np.pi,1000)"
     ],
     "language": "python",
     "metadata": {},
     "outputs": [],
     "prompt_number": 83
    },
    {
     "cell_type": "code",
     "collapsed": false,
     "input": [
      "s = np.sin(x*100)"
     ],
     "language": "python",
     "metadata": {},
     "outputs": [],
     "prompt_number": 87
    },
    {
     "cell_type": "code",
     "collapsed": false,
     "input": [
      "w=np.hamming(len(s))"
     ],
     "language": "python",
     "metadata": {},
     "outputs": [],
     "prompt_number": 88
    },
    {
     "cell_type": "code",
     "collapsed": false,
     "input": [
      "dpsd=pylab.psd(w*s,Fs=1000)"
     ],
     "language": "python",
     "metadata": {},
     "outputs": [
      {
       "metadata": {},
       "output_type": "display_data",
       "png": "[encoded data removed]",
       "text": [
        "<matplotlib.figure.Figure at 0x7fd00f491240>"
       ]
      }
     ],
     "prompt_number": 89
    },
    {
     "cell_type": "code",
     "collapsed": false,
     "input": [
      "pylab.psd?"
     ],
     "language": "python",
     "metadata": {},
     "outputs": [],
     "prompt_number": 71
    },
    {
     "cell_type": "code",
     "collapsed": false,
     "input": [
      "data['data'][0,:].astype(np.float)"
     ],
     "language": "python",
     "metadata": {},
     "outputs": [
      {
       "metadata": {},
       "output_type": "pyout",
       "prompt_number": 50,
       "text": [
        "array([ 17.,  22.,  29., ..., -32., -17.,   5.])"
       ]
      }
     ],
     "prompt_number": 50
    },
    {
     "cell_type": "code",
     "collapsed": false,
     "input": [
      "fs = data['sampling_frequency'].item()"
     ],
     "language": "python",
     "metadata": {},
     "outputs": [],
     "prompt_number": 57
    },
    {
     "cell_type": "code",
     "collapsed": false,
     "input": [
      "fs"
     ],
     "language": "python",
     "metadata": {},
     "outputs": [
      {
       "metadata": {},
       "output_type": "pyout",
       "prompt_number": 58,
       "text": [
        "399.609756097561"
       ]
      }
     ],
     "prompt_number": 58
    },
    {
     "cell_type": "code",
     "collapsed": false,
     "input": [
      "w = np.hanning(len(data['data'][0,:].astype(np.float)))"
     ],
     "language": "python",
     "metadata": {},
     "outputs": [],
     "prompt_number": 94
    },
    {
     "cell_type": "code",
     "collapsed": false,
     "input": [
      "dpsd=pylab.psd(data['data'][0,:].astype(np.float)*w,Fs=fs)"
     ],
     "language": "python",
     "metadata": {},
     "outputs": [
      {
       "metadata": {},
       "output_type": "display_data",
       "png": "[encoded data removed]",
       "text": [
        "<matplotlib.figure.Figure at 0x7fd00f46c9b0>"
       ]
      }
     ],
     "prompt_number": 97
    },
    {
     "cell_type": "markdown",
     "metadata": {},
     "source": [
      "Comparing the PSD of a random preictal with a random interictal.\n",
      "\n",
      "### Interictal"
     ]
    },
    {
     "cell_type": "code",
     "collapsed": false,
     "input": [
      "data = fuckyoumatlab(fnames[2])"
     ],
     "language": "python",
     "metadata": {},
     "outputs": [],
     "prompt_number": 99
    },
    {
     "cell_type": "code",
     "collapsed": false,
     "input": [
      "fs = data['sampling_frequency'].item()\n",
      "w = np.hanning(len(data['data'][0,:].astype(np.float)))\n",
      "dpsd=pylab.psd(data['data'][0,:].astype(np.float)*w,Fs=fs)"
     ],
     "language": "python",
     "metadata": {},
     "outputs": [
      {
       "metadata": {},
       "output_type": "display_data",
       "png": "[encoded data removed]",
       "text": [
        "<matplotlib.figure.Figure at 0x7fd00f3e6ba8>"
       ]
      }
     ],
     "prompt_number": 100
    },
    {
     "cell_type": "markdown",
     "metadata": {},
     "source": [
      "### Preictal"
     ]
    },
    {
     "cell_type": "code",
     "collapsed": false,
     "input": [
      "prek = [k for k in fnames if \"preictal\" in k][0]"
     ],
     "language": "python",
     "metadata": {},
     "outputs": [],
     "prompt_number": 102
    },
    {
     "cell_type": "code",
     "collapsed": false,
     "input": [
      "data = fuckyoumatlab(prek)"
     ],
     "language": "python",
     "metadata": {},
     "outputs": [],
     "prompt_number": 104
    },
    {
     "cell_type": "code",
     "collapsed": false,
     "input": [
      "fs = data['sampling_frequency'].item()\n",
      "w = np.hanning(len(data['data'][0,:].astype(np.float)))\n",
      "dpsd=pylab.psd(data['data'][0,:].astype(np.float)*w,Fs=fs)"
     ],
     "language": "python",
     "metadata": {},
     "outputs": [
      {
       "metadata": {},
       "output_type": "display_data",
       "png": "[encoded data removed]",
       "text": [
        "<matplotlib.figure.Figure at 0x7fd00f511940>"
       ]
      }
     ],
     "prompt_number": 105
    },
    {
     "cell_type": "markdown",
     "metadata": {},
     "source": [
      "There's a small different at low frequencies? I bet this feature is going to totally suck.\n",
      "\n",
      "## Splitting into bands\n",
      "\n",
      "I'm just going to go ahead and integrate these PSDs over arbitrary bands up to half the sampling frequency."
     ]
    },
    {
     "cell_type": "code",
     "collapsed": false,
     "input": [
      "bandedges = np.linspace(0,data['sampling_frequency'].item()/2,num=20)"
     ],
     "language": "python",
     "metadata": {},
     "outputs": [],
     "prompt_number": 122
    },
    {
     "cell_type": "code",
     "collapsed": false,
     "input": [
      "bandedges"
     ],
     "language": "python",
     "metadata": {},
     "outputs": [
      {
       "metadata": {},
       "output_type": "pyout",
       "prompt_number": 123,
       "text": [
        "array([   0.        ,   10.51604621,   21.03209243,   31.54813864,\n",
        "         42.06418485,   52.58023107,   63.09627728,   73.61232349,\n",
        "         84.1283697 ,   94.64441592,  105.16046213,  115.67650834,\n",
        "        126.19255456,  136.70860077,  147.22464698,  157.7406932 ,\n",
        "        168.25673941,  178.77278562,  189.28883184,  199.80487805])"
       ]
      }
     ],
     "prompt_number": 123
    },
    {
     "cell_type": "code",
     "collapsed": false,
     "input": [
      "import scipy.integrate"
     ],
     "language": "python",
     "metadata": {},
     "outputs": [],
     "prompt_number": 155
    },
    {
     "cell_type": "code",
     "collapsed": false,
     "input": [
      "d = data['data'][0,:].astype(np.float)"
     ],
     "language": "python",
     "metadata": {},
     "outputs": [],
     "prompt_number": 131
    },
    {
     "cell_type": "code",
     "collapsed": false,
     "input": [
      "ps = np.abs(np.fft.fft(d*w))**2"
     ],
     "language": "python",
     "metadata": {},
     "outputs": [],
     "prompt_number": 152
    },
    {
     "cell_type": "code",
     "collapsed": false,
     "input": [
      "freq = np.fft.fftfreq(len(d),d=1/fs)"
     ],
     "language": "python",
     "metadata": {},
     "outputs": [],
     "prompt_number": 153
    },
    {
     "cell_type": "code",
     "collapsed": false,
     "input": [
      "plt.plot(freq,ps)"
     ],
     "language": "python",
     "metadata": {},
     "outputs": [
      {
       "metadata": {},
       "output_type": "pyout",
       "prompt_number": 154,
       "text": [
        "[<matplotlib.lines.Line2D at 0x7fd00f281630>]"
       ]
      },
      {
       "metadata": {},
       "output_type": "display_data",
       "png": "[encoded data removed]",
       "text": [
        "<matplotlib.figure.Figure at 0x7fd00f334e10>"
       ]
      }
     ],
     "prompt_number": 154
    },
    {
     "cell_type": "code",
     "collapsed": false,
     "input": [
      "dfreq = {}\n",
      "for f,p in zip(freq,ps):\n",
      "    dfreq[f] = p"
     ],
     "language": "python",
     "metadata": {},
     "outputs": [],
     "prompt_number": 166
    },
    {
     "cell_type": "code",
     "collapsed": false,
     "input": [
      "sfreq = np.sort(freq)"
     ],
     "language": "python",
     "metadata": {},
     "outputs": [],
     "prompt_number": 167
    },
    {
     "cell_type": "code",
     "collapsed": false,
     "input": [
      "r = [f for f in sfreq if f > 10 and f < 100]\n",
      "scipy.integrate.trapz([dfreq[f] for f in r],r)"
     ],
     "language": "python",
     "metadata": {},
     "outputs": [
      {
       "metadata": {},
       "output_type": "pyout",
       "prompt_number": 175,
       "text": [
        "5017486217.7675982"
       ]
      }
     ],
     "prompt_number": 175
    },
    {
     "cell_type": "code",
     "collapsed": false,
     "input": [
      "for l,h in zip(bandedges):"
     ],
     "language": "python",
     "metadata": {},
     "outputs": []
    }
   ],
   "metadata": {}
  }
 ]
}