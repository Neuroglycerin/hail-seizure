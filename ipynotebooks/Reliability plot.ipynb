{
 "metadata": {
  "name": "",
  "signature": "sha256:e2704bcc59ecdd2a086f8edcad657cf692660f25c613316bc967d6b9c98de676"
 },
 "nbformat": 3,
 "nbformat_minor": 0,
 "worksheets": [
  {
   "cells": [
    {
     "cell_type": "code",
     "collapsed": false,
     "input": [
      "import matplotlib\n",
      "import matplotlib.pyplot as plt\n",
      "import numpy as np\n",
      "%matplotlib inline\n",
      "plt.rcParams['figure.figsize'] = 8, 8\n",
      "plt.rcParams['axes.grid'] = True"
     ],
     "language": "python",
     "metadata": {},
     "outputs": [],
     "prompt_number": 18
    },
    {
     "cell_type": "markdown",
     "metadata": {},
     "source": [
      "Likely that we can calibrate our predictions to improve our performance as described in [this blog post][blog].\n",
      "First, though, we should plot the reliability for a typical classifier.\n",
      "\n",
      "[blog]: http://fastml.com/classifier-calibration-with-platts-scaling-and-isotonic-regression/"
     ]
    },
    {
     "cell_type": "code",
     "collapsed": false,
     "input": [
      "cd .."
     ],
     "language": "python",
     "metadata": {},
     "outputs": [
      {
       "output_type": "stream",
       "stream": "stdout",
       "text": [
        "/home/gavin/repositories/hail-seizure\n"
       ]
      }
     ],
     "prompt_number": 10
    },
    {
     "cell_type": "code",
     "collapsed": false,
     "input": [
      "from python import utils\n",
      "import pickle"
     ],
     "language": "python",
     "metadata": {},
     "outputs": [],
     "prompt_number": 11
    },
    {
     "cell_type": "code",
     "collapsed": false,
     "input": [
      "with open(\"fsdetailed.pickle\",\"rb\") as f:\n",
      "    predictions,labels,weights,segments = pickle.load(f)"
     ],
     "language": "python",
     "metadata": {},
     "outputs": [],
     "prompt_number": 144
    },
    {
     "cell_type": "code",
     "collapsed": false,
     "input": [
      "x,y = utils.reliability_plot(predictions,labels)"
     ],
     "language": "python",
     "metadata": {},
     "outputs": [],
     "prompt_number": 13
    },
    {
     "cell_type": "code",
     "collapsed": false,
     "input": [
      "sklearn.metrics.roc_auc_score(labels,predictions)"
     ],
     "language": "python",
     "metadata": {},
     "outputs": [
      {
       "metadata": {},
       "output_type": "pyout",
       "prompt_number": 129,
       "text": [
        "0.85595461090704983"
       ]
      }
     ],
     "prompt_number": 129
    },
    {
     "cell_type": "code",
     "collapsed": false,
     "input": [
      "sklearn.metrics.log_loss(labels,predictions)"
     ],
     "language": "python",
     "metadata": {},
     "outputs": [
      {
       "metadata": {},
       "output_type": "pyout",
       "prompt_number": 131,
       "text": [
        "0.25441762101286125"
       ]
      }
     ],
     "prompt_number": 131
    },
    {
     "cell_type": "code",
     "collapsed": false,
     "input": [
      "plt.plot(x,y)\n",
      "plt.xlabel(\"Binned mean predicted\")\n",
      "plt.ylabel(\"Binned fraction positive\")\n",
      "plt.plot([0, 1], [0, 1], 'k--')"
     ],
     "language": "python",
     "metadata": {},
     "outputs": [
      {
       "metadata": {},
       "output_type": "pyout",
       "prompt_number": 20,
       "text": [
        "[<matplotlib.lines.Line2D at 0x7f29f79873c8>]"
       ]
      },
      {
       "metadata": {},
       "output_type": "display_data",
       "png": "[encoded data removed]",
       "text": [
        "<matplotlib.figure.Figure at 0x7f29f7987390>"
       ]
      }
     ],
     "prompt_number": 20
    },
    {
     "cell_type": "markdown",
     "metadata": {},
     "source": [
      "The above is __not good__. But, that might be good news for us, because if we can improve it then we'll have a good chance of improving our score.\n",
      "\n",
      "Worth a try, anyway.\n",
      "\n",
      "Platt scaling\n",
      "=============\n",
      "\n",
      "As it says on the blog:\n",
      "\n",
      "> You essentially create a new data set that has the same labels, but with one dimension (the output of the SVM). You then train on this new data set, and feed the output of the SVM as the input to this calibration method, which returns a probability. In Platt\u2019s case, we are essentially just performing logistic regression on the output of the SVM with respect to the true class labels.\n",
      "\n",
      "Doing this is pretty easy for us."
     ]
    },
    {
     "cell_type": "code",
     "collapsed": false,
     "input": [
      "import sklearn.linear_model\n",
      "import sklearn.cross_validation\n",
      "import sklearn.metrics"
     ],
     "language": "python",
     "metadata": {},
     "outputs": [],
     "prompt_number": 132
    },
    {
     "cell_type": "code",
     "collapsed": false,
     "input": [
      "lr = sklearn.linear_model.LogisticRegression()"
     ],
     "language": "python",
     "metadata": {},
     "outputs": [],
     "prompt_number": 133
    },
    {
     "cell_type": "code",
     "collapsed": false,
     "input": [
      "# cross validation again\n",
      "prds_cal = []\n",
      "labels_cal = []\n",
      "cv = sklearn.cross_validation.StratifiedShuffleSplit(labels)\n",
      "for train,test in cv:\n",
      "    lr.fit(predictions[np.newaxis].T[train],labels[train])\n",
      "    prds_cal.append(lr.predict_proba(predictions[np.newaxis].T[test])[:,1])\n",
      "    labels_cal.append(labels[test])\n",
      "# stack results\n",
      "prds_cal = np.hstack(prds_cal[:])\n",
      "labels_cal = np.hstack(labels_cal[:])"
     ],
     "language": "python",
     "metadata": {},
     "outputs": [],
     "prompt_number": 134
    },
    {
     "cell_type": "markdown",
     "metadata": {},
     "source": [
      "AUC has not changed significantly:"
     ]
    },
    {
     "cell_type": "code",
     "collapsed": false,
     "input": [
      "sklearn.metrics.roc_auc_score(labels_cal,prds_cal)"
     ],
     "language": "python",
     "metadata": {},
     "outputs": [
      {
       "metadata": {},
       "output_type": "pyout",
       "prompt_number": 135,
       "text": [
        "0.84980742318223301"
       ]
      }
     ],
     "prompt_number": 135
    },
    {
     "cell_type": "code",
     "collapsed": false,
     "input": [
      "sklearn.metrics.log_loss(labels_cal,prds_cal)"
     ],
     "language": "python",
     "metadata": {},
     "outputs": [
      {
       "metadata": {},
       "output_type": "pyout",
       "prompt_number": 136,
       "text": [
        "0.22372735177034248"
       ]
      }
     ],
     "prompt_number": 136
    },
    {
     "cell_type": "code",
     "collapsed": false,
     "input": [
      "x,y = utils.reliability_plot(prds_cal,labels_cal)\n",
      "plt.plot(x,y)\n",
      "plt.xlabel(\"Binned mean predicted\")\n",
      "plt.ylabel(\"Binned fraction positive\")\n",
      "plt.plot([0, 1], [0, 1], 'k--')"
     ],
     "language": "python",
     "metadata": {},
     "outputs": [
      {
       "metadata": {},
       "output_type": "pyout",
       "prompt_number": 52,
       "text": [
        "[<matplotlib.lines.Line2D at 0x7f29f7706860>]"
       ]
      },
      {
       "metadata": {},
       "output_type": "display_data",
       "png": "[encoded data removed]",
       "text": [
        "<matplotlib.figure.Figure at 0x7f29f77067f0>"
       ]
      }
     ],
     "prompt_number": 52
    },
    {
     "cell_type": "markdown",
     "metadata": {},
     "source": [
      "Isotonic regression\n",
      "===================\n",
      "\n",
      "This is very similar to Platt scaling:\n",
      "\n",
      "> The second popular method of calibrating is isotonic regression. The idea is to fit a piecewise-constant non-decreasing function instead of logistic regression. Piecewise-constant non-decreasing means a stair-like shape...\n",
      "\n",
      "Luckily this is also [implemented in scikit-learn][iso].\n",
      "Fairly easy to switch this in:\n",
      "\n",
      "[iso]: http://scikit-learn.org/stable/modules/isotonic.html"
     ]
    },
    {
     "cell_type": "code",
     "collapsed": false,
     "input": [
      "import sklearn.isotonic"
     ],
     "language": "python",
     "metadata": {},
     "outputs": [],
     "prompt_number": 53
    },
    {
     "cell_type": "code",
     "collapsed": false,
     "input": [
      "iso = sklearn.isotonic.IsotonicRegression(out_of_bounds='clip')"
     ],
     "language": "python",
     "metadata": {},
     "outputs": [],
     "prompt_number": 137
    },
    {
     "cell_type": "code",
     "collapsed": false,
     "input": [
      "prds_cal = []\n",
      "labels_cal = []\n",
      "cv = sklearn.cross_validation.StratifiedShuffleSplit(labels)\n",
      "for train,test in cv:\n",
      "    iso.fit(predictions[train],labels[train])\n",
      "    prds_cal.append(iso.transform(predictions[test]))\n",
      "    labels_cal.append(labels[test])\n",
      "# stack results\n",
      "prds_cal = np.hstack(prds_cal[:])\n",
      "labels_cal = np.hstack(labels_cal[:])"
     ],
     "language": "python",
     "metadata": {},
     "outputs": [],
     "prompt_number": 138
    },
    {
     "cell_type": "code",
     "collapsed": false,
     "input": [
      "x,y = utils.reliability_plot(prds_cal,labels_cal)\n",
      "plt.plot(x,y)\n",
      "plt.xlabel(\"Binned mean predicted\")\n",
      "plt.ylabel(\"Binned fraction positive\")\n",
      "plt.plot([0, 1], [0, 1], 'k--')"
     ],
     "language": "python",
     "metadata": {},
     "outputs": [
      {
       "metadata": {},
       "output_type": "pyout",
       "prompt_number": 139,
       "text": [
        "[<matplotlib.lines.Line2D at 0x7f29f5ac8160>]"
       ]
      },
      {
       "metadata": {},
       "output_type": "display_data",
       "png": "[encoded data removed]",
       "text": [
        "<matplotlib.figure.Figure at 0x7f29f5ac83c8>"
       ]
      }
     ],
     "prompt_number": 139
    },
    {
     "cell_type": "markdown",
     "metadata": {},
     "source": [
      "There appears to be a problem with isotonic regresssion or the way I'm using it.\n",
      "Data we're getting out has some problems:"
     ]
    },
    {
     "cell_type": "code",
     "collapsed": false,
     "input": [
      "delinds = []\n",
      "for i, (label, prediction) in enumerate(zip(labels_cal,prds_cal)):\n",
      "    if not np.isfinite(prediction):\n",
      "        print(i,prediction)\n",
      "        delinds.append(i)"
     ],
     "language": "python",
     "metadata": {},
     "outputs": [
      {
       "output_type": "stream",
       "stream": "stdout",
       "text": [
        "50 nan\n",
        "185 nan\n",
        "261 nan\n",
        "571 nan\n",
        "1339 nan\n",
        "1404 nan\n",
        "1579 nan\n",
        "1678 nan\n",
        "1956 nan\n",
        "2250 nan\n",
        "2744 nan\n",
        "3227 nan\n",
        "3683 nan\n",
        "3914 nan\n",
        "3986 nan\n",
        "5000 nan\n",
        "5151 nan\n",
        "5446 nan\n",
        "5625 nan\n",
        "6300 nan\n",
        "6472 nan\n",
        "6817 nan\n",
        "8019 nan\n",
        "8524 nan\n"
       ]
      }
     ],
     "prompt_number": 140
    },
    {
     "cell_type": "code",
     "collapsed": false,
     "input": [
      "mask = np.ones(len(prds_cal), dtype=bool)\n",
      "mask[delinds] = False\n",
      "prds_cal = prds_cal[mask]\n",
      "labels_cal = labels_cal[mask]"
     ],
     "language": "python",
     "metadata": {},
     "outputs": [],
     "prompt_number": 141
    },
    {
     "cell_type": "code",
     "collapsed": false,
     "input": [
      "sklearn.metrics.roc_auc_score(labels_cal,prds_cal)"
     ],
     "language": "python",
     "metadata": {},
     "outputs": [
      {
       "metadata": {},
       "output_type": "pyout",
       "prompt_number": 142,
       "text": [
        "0.86066161665466712"
       ]
      }
     ],
     "prompt_number": 142
    },
    {
     "cell_type": "code",
     "collapsed": false,
     "input": [
      "sklearn.metrics.log_loss(labels_cal,prds_cal)"
     ],
     "language": "python",
     "metadata": {},
     "outputs": [
      {
       "metadata": {},
       "output_type": "pyout",
       "prompt_number": 143,
       "text": [
        "0.19603428641616583"
       ]
      }
     ],
     "prompt_number": 143
    },
    {
     "cell_type": "markdown",
     "metadata": {},
     "source": [
      "So this methods reducing the AUC score, but appears to improve the smoothness of the predictions.\n",
      "In the blog post they saw approximately the same thing, but they improved the log loss, which we don't necessarily care about, because we're not being scored on it."
     ]
    },
    {
     "cell_type": "markdown",
     "metadata": {},
     "source": [
      "Platt scaling with subject knowledge\n",
      "====================================\n",
      "\n",
      "We might expect that the Platt scaling will work better if it can tell which subject is which and bias appropriately.\n",
      "So, we can add a 1-of-k feature to the prediction (single-element) vector.\n",
      "\n",
      "Unfortunately, we don't actually know which subject each of the predictions we're looking at here came from."
     ]
    },
    {
     "cell_type": "code",
     "collapsed": false,
     "input": [
      "import json"
     ],
     "language": "python",
     "metadata": {},
     "outputs": [],
     "prompt_number": 113
    },
    {
     "cell_type": "code",
     "collapsed": false,
     "input": [
      "with open(\"forestselection_gavin.json\") as f:\n",
      "    settings = json.load(f)"
     ],
     "language": "python",
     "metadata": {},
     "outputs": [],
     "prompt_number": 115
    },
    {
     "cell_type": "code",
     "collapsed": false,
     "input": [
      "subject_1ofk = []\n",
      "for segment in segments:\n",
      "    fvector = np.zeros(len(settings['SUBJECTS']))\n",
      "    for i,subject in enumerate(settings['SUBJECTS']):\n",
      "        if subject in segment:\n",
      "            # set appropriate element to 1\n",
      "            fvector[i]=1\n",
      "    subject_1ofk.append(np.array(fvector)[np.newaxis])\n",
      "subject_1ofk = np.vstack(subject_1ofk)"
     ],
     "language": "python",
     "metadata": {},
     "outputs": [],
     "prompt_number": 146
    },
    {
     "cell_type": "code",
     "collapsed": false,
     "input": [
      "subject_1ofk.shape"
     ],
     "language": "python",
     "metadata": {},
     "outputs": [
      {
       "metadata": {},
       "output_type": "pyout",
       "prompt_number": 147,
       "text": [
        "(9406, 7)"
       ]
      }
     ],
     "prompt_number": 147
    },
    {
     "cell_type": "code",
     "collapsed": false,
     "input": [
      "predictions.shape"
     ],
     "language": "python",
     "metadata": {},
     "outputs": [
      {
       "metadata": {},
       "output_type": "pyout",
       "prompt_number": 151,
       "text": [
        "(9406,)"
       ]
      }
     ],
     "prompt_number": 151
    },
    {
     "cell_type": "code",
     "collapsed": false,
     "input": [
      "predictions = predictions[np.newaxis].T\n",
      "predictions.shape"
     ],
     "language": "python",
     "metadata": {},
     "outputs": [
      {
       "metadata": {},
       "output_type": "pyout",
       "prompt_number": 153,
       "text": [
        "(9406, 1)"
       ]
      }
     ],
     "prompt_number": 153
    },
    {
     "cell_type": "code",
     "collapsed": false,
     "input": [
      "X = np.hstack([predictions,subject_1ofk])"
     ],
     "language": "python",
     "metadata": {},
     "outputs": [],
     "prompt_number": 154
    },
    {
     "cell_type": "code",
     "collapsed": false,
     "input": [
      "# cross validation again\n",
      "prds_cal = []\n",
      "labels_cal = []\n",
      "cv = sklearn.cross_validation.StratifiedShuffleSplit(labels)\n",
      "for train,test in cv:\n",
      "    lr.fit(X[train],labels[train])\n",
      "    prds_cal.append(lr.predict_proba(X[test])[:,1])\n",
      "    labels_cal.append(labels[test])\n",
      "# stack results\n",
      "prds_cal = np.hstack(prds_cal[:])\n",
      "labels_cal = np.hstack(labels_cal[:])"
     ],
     "language": "python",
     "metadata": {},
     "outputs": [],
     "prompt_number": 156
    },
    {
     "cell_type": "code",
     "collapsed": false,
     "input": [
      "x,y = utils.reliability_plot(prds_cal,labels_cal)\n",
      "plt.plot(x,y)\n",
      "plt.xlabel(\"Binned mean predicted\")\n",
      "plt.ylabel(\"Binned fraction positive\")\n",
      "plt.plot([0, 1], [0, 1], 'k--')"
     ],
     "language": "python",
     "metadata": {},
     "outputs": [
      {
       "metadata": {},
       "output_type": "pyout",
       "prompt_number": 158,
       "text": [
        "[<matplotlib.lines.Line2D at 0x7f29f5a09860>]"
       ]
      },
      {
       "metadata": {},
       "output_type": "display_data",
       "png": "[encoded data removed]",
       "text": [
        "<matplotlib.figure.Figure at 0x7f29f58e83c8>"
       ]
      }
     ],
     "prompt_number": 158
    },
    {
     "cell_type": "markdown",
     "metadata": {},
     "source": [
      "AUC is improved, but log loss suffers:"
     ]
    },
    {
     "cell_type": "code",
     "collapsed": false,
     "input": [
      "sklearn.metrics.roc_auc_score(labels,predictions)"
     ],
     "language": "python",
     "metadata": {},
     "outputs": [
      {
       "metadata": {},
       "output_type": "pyout",
       "prompt_number": 159,
       "text": [
        "0.86384377771661014"
       ]
      }
     ],
     "prompt_number": 159
    },
    {
     "cell_type": "code",
     "collapsed": false,
     "input": [
      "sklearn.metrics.log_loss(labels,predictions)"
     ],
     "language": "python",
     "metadata": {},
     "outputs": [
      {
       "metadata": {},
       "output_type": "pyout",
       "prompt_number": 160,
       "text": [
        "0.25863190142133302"
       ]
      }
     ],
     "prompt_number": 160
    }
   ],
   "metadata": {}
  }
 ]
}