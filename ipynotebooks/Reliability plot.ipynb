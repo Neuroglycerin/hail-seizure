{
 "metadata": {
  "name": "",
  "signature": "sha256:cc06d23b0c0900eaa1b46f688930cfa30a911ad08c18e59867d47d10943ddaaa"
 },
 "nbformat": 3,
 "nbformat_minor": 0,
 "worksheets": [
  {
   "cells": [
    {
     "cell_type": "code",
     "collapsed": false,
     "input": [
      "import matplotlib\n",
      "import matplotlib.pyplot as plt\n",
      "import numpy as np\n",
      "%matplotlib inline\n",
      "plt.rcParams['figure.figsize'] = 8, 8\n",
      "plt.rcParams['axes.grid'] = True"
     ],
     "language": "python",
     "metadata": {},
     "outputs": [],
     "prompt_number": 1
    },
    {
     "cell_type": "markdown",
     "metadata": {},
     "source": [
      "Likely that we can calibrate our predictions to improve our performance as described in [this blog post][blog].\n",
      "First, though, we should plot the reliability for a typical classifier.\n",
      "\n",
      "[blog]: http://fastml.com/classifier-calibration-with-platts-scaling-and-isotonic-regression/"
     ]
    },
    {
     "cell_type": "code",
     "collapsed": false,
     "input": [
      "cd .."
     ],
     "language": "python",
     "metadata": {},
     "outputs": [
      {
       "output_type": "stream",
       "stream": "stdout",
       "text": [
        "/home/gavin/repositories/hail-seizure\n"
       ]
      }
     ],
     "prompt_number": 2
    },
    {
     "cell_type": "code",
     "collapsed": false,
     "input": [
      "from python import utils\n",
      "import pickle"
     ],
     "language": "python",
     "metadata": {},
     "outputs": [],
     "prompt_number": 3
    },
    {
     "cell_type": "code",
     "collapsed": false,
     "input": [
      "import sklearn.linear_model\n",
      "import sklearn.cross_validation\n",
      "import sklearn.metrics"
     ],
     "language": "python",
     "metadata": {},
     "outputs": [],
     "prompt_number": 7
    },
    {
     "cell_type": "code",
     "collapsed": false,
     "input": [
      "with open(\"fsdetailed.pickle\",\"rb\") as f:\n",
      "    predictions,labels,weights,segments = pickle.load(f)"
     ],
     "language": "python",
     "metadata": {},
     "outputs": [],
     "prompt_number": 4
    },
    {
     "cell_type": "code",
     "collapsed": false,
     "input": [
      "x,y = utils.reliability_plot(predictions,labels)"
     ],
     "language": "python",
     "metadata": {},
     "outputs": [],
     "prompt_number": 5
    },
    {
     "cell_type": "code",
     "collapsed": false,
     "input": [
      "sklearn.metrics.roc_auc_score(labels,predictions)"
     ],
     "language": "python",
     "metadata": {},
     "outputs": [
      {
       "metadata": {},
       "output_type": "pyout",
       "prompt_number": 8,
       "text": [
        "0.86384377771661014"
       ]
      }
     ],
     "prompt_number": 8
    },
    {
     "cell_type": "code",
     "collapsed": false,
     "input": [
      "sklearn.metrics.log_loss(labels,predictions)"
     ],
     "language": "python",
     "metadata": {},
     "outputs": [
      {
       "metadata": {},
       "output_type": "pyout",
       "prompt_number": 9,
       "text": [
        "0.25863190142133302"
       ]
      }
     ],
     "prompt_number": 9
    },
    {
     "cell_type": "code",
     "collapsed": false,
     "input": [
      "plt.plot(x,y)\n",
      "plt.xlabel(\"Binned mean predicted\")\n",
      "plt.ylabel(\"Binned fraction positive\")\n",
      "plt.plot([0, 1], [0, 1], 'k--')"
     ],
     "language": "python",
     "metadata": {},
     "outputs": [
      {
       "metadata": {},
       "output_type": "pyout",
       "prompt_number": 10,
       "text": [
        "[<matplotlib.lines.Line2D at 0x7fbd6054ba20>]"
       ]
      },
      {
       "metadata": {},
       "output_type": "display_data",
       "png": "[encoded data removed]",
       "text": [
        "<matplotlib.figure.Figure at 0x7fbd6054b978>"
       ]
      }
     ],
     "prompt_number": 10
    },
    {
     "cell_type": "markdown",
     "metadata": {},
     "source": [
      "The above is __not good__. But, that might be good news for us, because if we can improve it then we'll have a good chance of improving our score.\n",
      "\n",
      "Worth a try, anyway.\n",
      "\n",
      "Platt scaling\n",
      "=============\n",
      "\n",
      "As it says on the blog:\n",
      "\n",
      "> You essentially create a new data set that has the same labels, but with one dimension (the output of the SVM). You then train on this new data set, and feed the output of the SVM as the input to this calibration method, which returns a probability. In Platt\u2019s case, we are essentially just performing logistic regression on the output of the SVM with respect to the true class labels.\n",
      "\n",
      "Doing this is pretty easy for us."
     ]
    },
    {
     "cell_type": "code",
     "collapsed": false,
     "input": [
      "lr = sklearn.linear_model.LogisticRegression()"
     ],
     "language": "python",
     "metadata": {},
     "outputs": [],
     "prompt_number": 11
    },
    {
     "cell_type": "code",
     "collapsed": false,
     "input": [
      "# cross validation again\n",
      "prds_cal = []\n",
      "labels_cal = []\n",
      "cv = sklearn.cross_validation.StratifiedShuffleSplit(labels)\n",
      "for train,test in cv:\n",
      "    lr.fit(predictions[np.newaxis].T[train],labels[train])\n",
      "    prds_cal.append(lr.predict_proba(predictions[np.newaxis].T[test])[:,1])\n",
      "    labels_cal.append(labels[test])\n",
      "# stack results\n",
      "prds_cal = np.hstack(prds_cal[:])\n",
      "labels_cal = np.hstack(labels_cal[:])"
     ],
     "language": "python",
     "metadata": {},
     "outputs": [],
     "prompt_number": 12
    },
    {
     "cell_type": "markdown",
     "metadata": {},
     "source": [
      "AUC has not changed significantly:"
     ]
    },
    {
     "cell_type": "code",
     "collapsed": false,
     "input": [
      "sklearn.metrics.roc_auc_score(labels_cal,prds_cal)"
     ],
     "language": "python",
     "metadata": {},
     "outputs": [
      {
       "metadata": {},
       "output_type": "pyout",
       "prompt_number": 13,
       "text": [
        "0.85999665348341958"
       ]
      }
     ],
     "prompt_number": 13
    },
    {
     "cell_type": "code",
     "collapsed": false,
     "input": [
      "sklearn.metrics.log_loss(labels_cal,prds_cal)"
     ],
     "language": "python",
     "metadata": {},
     "outputs": [
      {
       "metadata": {},
       "output_type": "pyout",
       "prompt_number": 14,
       "text": [
        "0.22326414847102732"
       ]
      }
     ],
     "prompt_number": 14
    },
    {
     "cell_type": "code",
     "collapsed": false,
     "input": [
      "x,y = utils.reliability_plot(prds_cal,labels_cal)\n",
      "plt.plot(x,y)\n",
      "plt.xlabel(\"Binned mean predicted\")\n",
      "plt.ylabel(\"Binned fraction positive\")\n",
      "plt.plot([0, 1], [0, 1], 'k--')"
     ],
     "language": "python",
     "metadata": {},
     "outputs": [
      {
       "metadata": {},
       "output_type": "pyout",
       "prompt_number": 15,
       "text": [
        "[<matplotlib.lines.Line2D at 0x7fbd6020f2e8>]"
       ]
      },
      {
       "metadata": {},
       "output_type": "display_data",
       "png": "[encoded data removed]",
       "text": [
        "<matplotlib.figure.Figure at 0x7fbd6020f438>"
       ]
      }
     ],
     "prompt_number": 15
    },
    {
     "cell_type": "markdown",
     "metadata": {},
     "source": [
      "Isotonic regression\n",
      "===================\n",
      "\n",
      "This is very similar to Platt scaling:\n",
      "\n",
      "> The second popular method of calibrating is isotonic regression. The idea is to fit a piecewise-constant non-decreasing function instead of logistic regression. Piecewise-constant non-decreasing means a stair-like shape...\n",
      "\n",
      "Luckily this is also [implemented in scikit-learn][iso].\n",
      "Fairly easy to switch this in:\n",
      "\n",
      "[iso]: http://scikit-learn.org/stable/modules/isotonic.html"
     ]
    },
    {
     "cell_type": "code",
     "collapsed": false,
     "input": [
      "import sklearn.isotonic"
     ],
     "language": "python",
     "metadata": {},
     "outputs": [],
     "prompt_number": 16
    },
    {
     "cell_type": "code",
     "collapsed": false,
     "input": [
      "iso = sklearn.isotonic.IsotonicRegression(out_of_bounds='clip')"
     ],
     "language": "python",
     "metadata": {},
     "outputs": [],
     "prompt_number": 17
    },
    {
     "cell_type": "code",
     "collapsed": false,
     "input": [
      "prds_cal = []\n",
      "labels_cal = []\n",
      "cv = sklearn.cross_validation.StratifiedShuffleSplit(labels)\n",
      "for train,test in cv:\n",
      "    iso.fit(predictions[train],labels[train])\n",
      "    prds_cal.append(iso.transform(predictions[test]))\n",
      "    labels_cal.append(labels[test])\n",
      "# stack results\n",
      "prds_cal = np.hstack(prds_cal[:])\n",
      "labels_cal = np.hstack(labels_cal[:])"
     ],
     "language": "python",
     "metadata": {},
     "outputs": [
      {
       "output_type": "stream",
       "stream": "stderr",
       "text": [
        "/usr/lib/python3.4/site-packages/scipy/interpolate/interpolate.py:445: RuntimeWarning: invalid value encountered in true_divide\n",
        "  slope = (y_hi - y_lo) / (x_hi - x_lo)[:, None]\n"
       ]
      }
     ],
     "prompt_number": 18
    },
    {
     "cell_type": "code",
     "collapsed": false,
     "input": [
      "x,y = utils.reliability_plot(prds_cal,labels_cal)\n",
      "plt.plot(x,y)\n",
      "plt.xlabel(\"Binned mean predicted\")\n",
      "plt.ylabel(\"Binned fraction positive\")\n",
      "plt.plot([0, 1], [0, 1], 'k--')"
     ],
     "language": "python",
     "metadata": {},
     "outputs": [
      {
       "metadata": {},
       "output_type": "pyout",
       "prompt_number": 19,
       "text": [
        "[<matplotlib.lines.Line2D at 0x7fbd601d9128>]"
       ]
      },
      {
       "metadata": {},
       "output_type": "display_data",
       "png": "[encoded data removed]",
       "text": [
        "<matplotlib.figure.Figure at 0x7fbd601d9748>"
       ]
      }
     ],
     "prompt_number": 19
    },
    {
     "cell_type": "markdown",
     "metadata": {},
     "source": [
      "There appears to be a problem with isotonic regresssion or the way I'm using it.\n",
      "Data we're getting out has some problems:"
     ]
    },
    {
     "cell_type": "code",
     "collapsed": false,
     "input": [
      "delinds = []\n",
      "for i, (label, prediction) in enumerate(zip(labels_cal,prds_cal)):\n",
      "    if not np.isfinite(prediction):\n",
      "        print(i,prediction)\n",
      "        delinds.append(i)"
     ],
     "language": "python",
     "metadata": {},
     "outputs": [
      {
       "output_type": "stream",
       "stream": "stdout",
       "text": [
        "292 nan\n",
        "1070 nan\n",
        "1273 nan\n",
        "1663 nan\n",
        "2243 nan\n",
        "3793 nan\n",
        "5211 nan\n",
        "5349 nan\n",
        "5484 nan\n",
        "5583 nan\n",
        "5734 nan\n",
        "6107 nan\n",
        "6396 nan\n",
        "6558 nan\n",
        "6577 nan\n",
        "7250 nan\n",
        "8639 nan\n",
        "9117 nan\n"
       ]
      }
     ],
     "prompt_number": 20
    },
    {
     "cell_type": "code",
     "collapsed": false,
     "input": [
      "mask = np.ones(len(prds_cal), dtype=bool)\n",
      "mask[delinds] = False\n",
      "prds_cal = prds_cal[mask]\n",
      "labels_cal = labels_cal[mask]"
     ],
     "language": "python",
     "metadata": {},
     "outputs": [],
     "prompt_number": 21
    },
    {
     "cell_type": "code",
     "collapsed": false,
     "input": [
      "sklearn.metrics.roc_auc_score(labels_cal,prds_cal)"
     ],
     "language": "python",
     "metadata": {},
     "outputs": [
      {
       "metadata": {},
       "output_type": "pyout",
       "prompt_number": 22,
       "text": [
        "0.86515017560119012"
       ]
      }
     ],
     "prompt_number": 22
    },
    {
     "cell_type": "code",
     "collapsed": false,
     "input": [
      "sklearn.metrics.log_loss(labels_cal,prds_cal)"
     ],
     "language": "python",
     "metadata": {},
     "outputs": [
      {
       "metadata": {},
       "output_type": "pyout",
       "prompt_number": 23,
       "text": [
        "0.19109615646043029"
       ]
      }
     ],
     "prompt_number": 23
    },
    {
     "cell_type": "markdown",
     "metadata": {},
     "source": [
      "So this methods reducing the AUC score, but appears to improve the smoothness of the predictions.\n",
      "In the blog post they saw approximately the same thing, but they improved the log loss, which we don't necessarily care about, because we're not being scored on it."
     ]
    },
    {
     "cell_type": "markdown",
     "metadata": {},
     "source": [
      "Platt scaling with subject knowledge\n",
      "====================================\n",
      "\n",
      "We might expect that the Platt scaling will work better if it can tell which subject is which and bias appropriately.\n",
      "So, we can add a 1-of-k feature to the prediction (single-element) vector.\n",
      "\n",
      "Unfortunately, we don't actually know which subject each of the predictions we're looking at here came from."
     ]
    },
    {
     "cell_type": "code",
     "collapsed": false,
     "input": [
      "import json"
     ],
     "language": "python",
     "metadata": {},
     "outputs": [],
     "prompt_number": 24
    },
    {
     "cell_type": "code",
     "collapsed": false,
     "input": [
      "with open(\"forestselection_gavin.json\") as f:\n",
      "    settings = json.load(f)"
     ],
     "language": "python",
     "metadata": {},
     "outputs": [],
     "prompt_number": 25
    },
    {
     "cell_type": "code",
     "collapsed": false,
     "input": [
      "subject_1ofk = []\n",
      "for segment in segments:\n",
      "    fvector = np.zeros(len(settings['SUBJECTS']))\n",
      "    for i,subject in enumerate(settings['SUBJECTS']):\n",
      "        if subject in segment:\n",
      "            # set appropriate element to 1\n",
      "            fvector[i]=1\n",
      "    subject_1ofk.append(np.array(fvector)[np.newaxis])\n",
      "subject_1ofk = np.vstack(subject_1ofk)"
     ],
     "language": "python",
     "metadata": {},
     "outputs": [],
     "prompt_number": 26
    },
    {
     "cell_type": "code",
     "collapsed": false,
     "input": [
      "subject_1ofk.shape"
     ],
     "language": "python",
     "metadata": {},
     "outputs": [
      {
       "metadata": {},
       "output_type": "pyout",
       "prompt_number": 27,
       "text": [
        "(9406, 7)"
       ]
      }
     ],
     "prompt_number": 27
    },
    {
     "cell_type": "code",
     "collapsed": false,
     "input": [
      "predictions.shape"
     ],
     "language": "python",
     "metadata": {},
     "outputs": [
      {
       "metadata": {},
       "output_type": "pyout",
       "prompt_number": 28,
       "text": [
        "(9406,)"
       ]
      }
     ],
     "prompt_number": 28
    },
    {
     "cell_type": "code",
     "collapsed": false,
     "input": [
      "predictions = predictions[np.newaxis].T\n",
      "predictions.shape"
     ],
     "language": "python",
     "metadata": {},
     "outputs": [
      {
       "metadata": {},
       "output_type": "pyout",
       "prompt_number": 29,
       "text": [
        "(9406, 1)"
       ]
      }
     ],
     "prompt_number": 29
    },
    {
     "cell_type": "code",
     "collapsed": false,
     "input": [
      "X = np.hstack([predictions,subject_1ofk])"
     ],
     "language": "python",
     "metadata": {},
     "outputs": [],
     "prompt_number": 30
    },
    {
     "cell_type": "code",
     "collapsed": false,
     "input": [
      "# cross validation again\n",
      "prds_cal = []\n",
      "labels_cal = []\n",
      "cv = sklearn.cross_validation.StratifiedShuffleSplit(labels)\n",
      "for train,test in cv:\n",
      "    lr.fit(X[train],labels[train])\n",
      "    prds_cal.append(lr.predict_proba(X[test])[:,1])\n",
      "    labels_cal.append(labels[test])\n",
      "# stack results\n",
      "prds_cal = np.hstack(prds_cal[:])\n",
      "labels_cal = np.hstack(labels_cal[:])"
     ],
     "language": "python",
     "metadata": {},
     "outputs": [],
     "prompt_number": 31
    },
    {
     "cell_type": "code",
     "collapsed": false,
     "input": [
      "x,y = utils.reliability_plot(prds_cal,labels_cal)\n",
      "plt.plot(x,y)\n",
      "plt.xlabel(\"Binned mean predicted\")\n",
      "plt.ylabel(\"Binned fraction positive\")\n",
      "plt.plot([0, 1], [0, 1], 'k--')"
     ],
     "language": "python",
     "metadata": {},
     "outputs": [
      {
       "metadata": {},
       "output_type": "pyout",
       "prompt_number": 32,
       "text": [
        "[<matplotlib.lines.Line2D at 0x7fbd5feab8d0>]"
       ]
      },
      {
       "metadata": {},
       "output_type": "display_data",
       "png": "[encoded data removed]",
       "text": [
        "<matplotlib.figure.Figure at 0x7fbd5feab4a8>"
       ]
      }
     ],
     "prompt_number": 32
    },
    {
     "cell_type": "markdown",
     "metadata": {},
     "source": [
      "AUC is improved, but log loss suffers:"
     ]
    },
    {
     "cell_type": "code",
     "collapsed": false,
     "input": [
      "sklearn.metrics.roc_auc_score(labels,predictions)"
     ],
     "language": "python",
     "metadata": {},
     "outputs": [
      {
       "metadata": {},
       "output_type": "pyout",
       "prompt_number": 33,
       "text": [
        "0.86384377771661014"
       ]
      }
     ],
     "prompt_number": 33
    },
    {
     "cell_type": "code",
     "collapsed": false,
     "input": [
      "sklearn.metrics.log_loss(labels,predictions)"
     ],
     "language": "python",
     "metadata": {},
     "outputs": [
      {
       "metadata": {},
       "output_type": "pyout",
       "prompt_number": 34,
       "text": [
        "0.25863190142133302"
       ]
      }
     ],
     "prompt_number": 34
    },
    {
     "cell_type": "markdown",
     "metadata": {},
     "source": [
      "But what does it do to the submission AUC?\n",
      "==========================================\n",
      "\n",
      "Let's talk turkey.\n",
      "\n",
      "Above results are from one of the highest scoring models (forgot to switch back in v2 features).\n",
      "We can simply load the predictions it made in it's submission csv and transform them with the fitted logistic regression model we've created.\n",
      "\n",
      "First, fit the logistic regression model to all the training data:"
     ]
    },
    {
     "cell_type": "code",
     "collapsed": false,
     "input": [
      "lr.fit(X,labels)"
     ],
     "language": "python",
     "metadata": {},
     "outputs": [
      {
       "metadata": {},
       "output_type": "pyout",
       "prompt_number": 35,
       "text": [
        "LogisticRegression(C=1.0, class_weight=None, dual=False, fit_intercept=True,\n",
        "          intercept_scaling=1, penalty='l2', random_state=None, tol=0.0001)"
       ]
      }
     ],
     "prompt_number": 35
    },
    {
     "cell_type": "markdown",
     "metadata": {},
     "source": [
      "Then load the submission csv:"
     ]
    },
    {
     "cell_type": "code",
     "collapsed": false,
     "input": [
      "import csv"
     ],
     "language": "python",
     "metadata": {},
     "outputs": [],
     "prompt_number": 36
    },
    {
     "cell_type": "code",
     "collapsed": false,
     "input": [
      "testsegments = []\n",
      "testpredictions = []\n",
      "with open(\"output/forestselection_gavin_submission_using__v3_feats.csv\") as f:\n",
      "    c = csv.reader(f)\n",
      "    # skip first line\n",
      "    header = next(c)\n",
      "    for line in c:\n",
      "        testsegments.append(line[0])\n",
      "        testpredictions.append(line[1])"
     ],
     "language": "python",
     "metadata": {},
     "outputs": [],
     "prompt_number": 37
    },
    {
     "cell_type": "markdown",
     "metadata": {},
     "source": [
      "Build the required 1-of-k subject feature:"
     ]
    },
    {
     "cell_type": "code",
     "collapsed": false,
     "input": [
      "subject_1ofk = []\n",
      "for segment in testsegments:\n",
      "    fvector = np.zeros(len(settings['SUBJECTS']))\n",
      "    for i,subject in enumerate(settings['SUBJECTS']):\n",
      "        if subject in segment:\n",
      "            # set appropriate element to 1\n",
      "            fvector[i]=1\n",
      "    subject_1ofk.append(np.array(fvector)[np.newaxis])\n",
      "subject_1ofk = np.vstack(subject_1ofk)"
     ],
     "language": "python",
     "metadata": {},
     "outputs": [],
     "prompt_number": 38
    },
    {
     "cell_type": "code",
     "collapsed": false,
     "input": [
      "testpredictions = np.array(testpredictions)"
     ],
     "language": "python",
     "metadata": {},
     "outputs": [],
     "prompt_number": 39
    },
    {
     "cell_type": "code",
     "collapsed": false,
     "input": [
      "testpredictions = testpredictions[np.newaxis].T\n",
      "testpredictions.shape"
     ],
     "language": "python",
     "metadata": {},
     "outputs": [
      {
       "metadata": {},
       "output_type": "pyout",
       "prompt_number": 40,
       "text": [
        "(3935, 1)"
       ]
      }
     ],
     "prompt_number": 40
    },
    {
     "cell_type": "code",
     "collapsed": false,
     "input": [
      "testpredictions = testpredictions.astype(float)"
     ],
     "language": "python",
     "metadata": {},
     "outputs": [],
     "prompt_number": 41
    },
    {
     "cell_type": "code",
     "collapsed": false,
     "input": [
      "subject_1ofk.shape"
     ],
     "language": "python",
     "metadata": {},
     "outputs": [
      {
       "metadata": {},
       "output_type": "pyout",
       "prompt_number": 42,
       "text": [
        "(3935, 7)"
       ]
      }
     ],
     "prompt_number": 42
    },
    {
     "cell_type": "code",
     "collapsed": false,
     "input": [
      "X = np.hstack([testpredictions,subject_1ofk])"
     ],
     "language": "python",
     "metadata": {},
     "outputs": [],
     "prompt_number": 43
    },
    {
     "cell_type": "code",
     "collapsed": false,
     "input": [
      "ptest = lr.predict_proba(X)[:,1]"
     ],
     "language": "python",
     "metadata": {},
     "outputs": [],
     "prompt_number": 44
    },
    {
     "cell_type": "code",
     "collapsed": false,
     "input": [
      "ptest"
     ],
     "language": "python",
     "metadata": {},
     "outputs": [
      {
       "metadata": {},
       "output_type": "pyout",
       "prompt_number": 45,
       "text": [
        "array([ 0.06069915,  0.05362842,  0.16231353, ...,  0.05899654,\n",
        "        0.03058018,  0.05368407])"
       ]
      }
     ],
     "prompt_number": 45
    },
    {
     "cell_type": "markdown",
     "metadata": {},
     "source": [
      "And save these new predictions to a file:"
     ]
    },
    {
     "cell_type": "code",
     "collapsed": false,
     "input": [
      "with open(\"output/platt_scaled_1ofk_forestselection_v3.csv\",\"w\") as f:\n",
      "    c = csv.writer(f)\n",
      "    c.writerow(header)\n",
      "    for segment, prediction in zip(testsegments,ptest):\n",
      "        c.writerow([segment,prediction])"
     ],
     "language": "python",
     "metadata": {},
     "outputs": [],
     "prompt_number": 46
    },
    {
     "cell_type": "code",
     "collapsed": false,
     "input": [
      "!wc -l output/platt_scaled_1ofk_forestselection_v3.csv"
     ],
     "language": "python",
     "metadata": {},
     "outputs": [
      {
       "output_type": "stream",
       "stream": "stdout",
       "text": [
        "3936 output/platt_scaled_1ofk_forestselection_v3.csv\r\n"
       ]
      }
     ],
     "prompt_number": 53
    },
    {
     "cell_type": "code",
     "collapsed": false,
     "input": [
      "!head output/platt_scaled_1ofk_forestselection_v3.csv"
     ],
     "language": "python",
     "metadata": {},
     "outputs": [
      {
       "output_type": "stream",
       "stream": "stdout",
       "text": [
        "clip,preictal\r",
        "\r\n",
        "Dog_2_test_segment_0211.mat,0.0606991522176\r",
        "\r\n",
        "Dog_4_test_segment_0325.mat,0.0536284206957\r",
        "\r\n",
        "Dog_2_test_segment_0240.mat,0.162313534518\r",
        "\r\n",
        "Dog_2_test_segment_0628.mat,0.0612778406132\r",
        "\r\n",
        "Dog_3_test_segment_0154.mat,0.030521560629\r",
        "\r\n",
        "Dog_2_test_segment_0796.mat,0.066205335603\r",
        "\r\n",
        "Dog_4_test_segment_0505.mat,0.053758809326\r",
        "\r\n",
        "Dog_3_test_segment_0595.mat,0.0313196965567\r",
        "\r\n",
        "Dog_2_test_segment_0037.mat,0.0587136225275\r",
        "\r\n"
       ]
      }
     ],
     "prompt_number": 54
    },
    {
     "cell_type": "markdown",
     "metadata": {},
     "source": [
      "Submitted and it scored: 0.69822.\n",
      "Not really an improvement.\n",
      "\n",
      "Trying with vanilla Platt scaling as above:"
     ]
    },
    {
     "cell_type": "code",
     "collapsed": false,
     "input": [
      "lr.fit(predictions,labels)"
     ],
     "language": "python",
     "metadata": {},
     "outputs": [
      {
       "metadata": {},
       "output_type": "pyout",
       "prompt_number": 49,
       "text": [
        "LogisticRegression(C=1.0, class_weight=None, dual=False, fit_intercept=True,\n",
        "          intercept_scaling=1, penalty='l2', random_state=None, tol=0.0001)"
       ]
      }
     ],
     "prompt_number": 49
    },
    {
     "cell_type": "code",
     "collapsed": false,
     "input": [
      "ptest = lr.predict_proba(testpredictions)[:,1]"
     ],
     "language": "python",
     "metadata": {},
     "outputs": [],
     "prompt_number": 50
    },
    {
     "cell_type": "code",
     "collapsed": false,
     "input": [
      "with open(\"output/platt_scaled_forestselection_v3.csv\",\"w\") as f:\n",
      "    c = csv.writer(f)\n",
      "    c.writerow(header)\n",
      "    for segment, prediction in zip(testsegments,ptest):\n",
      "        c.writerow([segment,prediction])"
     ],
     "language": "python",
     "metadata": {},
     "outputs": [],
     "prompt_number": 51
    },
    {
     "cell_type": "code",
     "collapsed": false,
     "input": [
      "!head output/platt_scaled_forestselection_v3.csv"
     ],
     "language": "python",
     "metadata": {},
     "outputs": [
      {
       "output_type": "stream",
       "stream": "stdout",
       "text": [
        "clip,preictal\r",
        "\r\n",
        "Dog_2_test_segment_0211.mat,0.0508916698727\r",
        "\r\n",
        "Dog_4_test_segment_0325.mat,0.0487877673901\r",
        "\r\n",
        "Dog_2_test_segment_0240.mat,0.145114632777\r",
        "\r\n",
        "Dog_2_test_segment_0628.mat,0.0514063267066\r",
        "\r\n",
        "Dog_3_test_segment_0154.mat,0.0488343194807\r",
        "\r\n",
        "Dog_2_test_segment_0796.mat,0.0558018185354\r",
        "\r\n",
        "Dog_4_test_segment_0505.mat,0.0489128966102\r",
        "\r\n",
        "Dog_3_test_segment_0595.mat,0.0501492853756\r",
        "\r\n",
        "Dog_2_test_segment_0037.mat,0.0491283941637\r",
        "\r\n"
       ]
      }
     ],
     "prompt_number": 52
    },
    {
     "cell_type": "markdown",
     "metadata": {},
     "source": [
      "Submitted and scored exactly the same as without Platt scaling: 0.78169\n",
      "\n",
      "Worth checking that it actually changed the probabilities:"
     ]
    },
    {
     "cell_type": "code",
     "collapsed": false,
     "input": [
      "!head output/forestselection_gavin_submission_using__v3_feats.csv"
     ],
     "language": "python",
     "metadata": {},
     "outputs": [
      {
       "output_type": "stream",
       "stream": "stdout",
       "text": [
        "clip,preictal\r",
        "\r\n",
        "Dog_2_test_segment_0211.mat,0.00963291216598\r",
        "\r\n",
        "Dog_4_test_segment_0325.mat,9.17138116751e-06\r",
        "\r\n",
        "Dog_2_test_segment_0240.mat,0.259221827464\r",
        "\r\n",
        "Dog_2_test_segment_0628.mat,0.0119296717341\r",
        "\r\n",
        "Dog_3_test_segment_0154.mat,0.000226333362858\r",
        "\r\n",
        "Dog_2_test_segment_0796.mat,0.0307054007125\r",
        "\r\n",
        "Dog_4_test_segment_0505.mat,0.000592444618114\r",
        "\r\n",
        "Dog_3_test_segment_0595.mat,0.00628084484996\r",
        "\r\n",
        "Dog_2_test_segment_0037.mat,0.00159364812553\r",
        "\r\n"
       ]
      }
     ],
     "prompt_number": 55
    },
    {
     "cell_type": "markdown",
     "metadata": {},
     "source": [
      "Yeah, there are differences, I suppose it has simply been scaled."
     ]
    }
   ],
   "metadata": {}
  }
 ]
}