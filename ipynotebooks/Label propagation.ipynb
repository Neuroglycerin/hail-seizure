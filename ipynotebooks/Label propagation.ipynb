{
 "metadata": {
  "name": "",
  "signature": "sha256:45735b037adb214dbb80ef956be2f3703d4b722bcb5d4951029f331ccf6d0e56"
 },
 "nbformat": 3,
 "nbformat_minor": 0,
 "worksheets": [
  {
   "cells": [
    {
     "cell_type": "markdown",
     "metadata": {},
     "source": [
      "Using [semi-supervised methods][semi] described in the documentaton.\n",
      "Label propagation basically involves trying to add labels to the test data based on the labels in the training data."
     ]
    },
    {
     "cell_type": "code",
     "collapsed": false,
     "input": [
      "import matplotlib\n",
      "import matplotlib.pyplot as plt\n",
      "import numpy as np\n",
      "%matplotlib inline\n",
      "plt.rcParams['figure.figsize'] = 8, 12\n",
      "plt.rcParams['axes.grid'] = True\n",
      "plt.set_cmap('brg')"
     ],
     "language": "python",
     "metadata": {},
     "outputs": [
      {
       "metadata": {},
       "output_type": "display_data",
       "text": [
        "<matplotlib.figure.Figure at 0x7f3f09503588>"
       ]
      }
     ],
     "prompt_number": 1
    },
    {
     "cell_type": "code",
     "collapsed": false,
     "input": [
      "cd .."
     ],
     "language": "python",
     "metadata": {},
     "outputs": [
      {
       "output_type": "stream",
       "stream": "stdout",
       "text": [
        "/home/gavin/repositories/hail-seizure\n"
       ]
      }
     ],
     "prompt_number": 2
    },
    {
     "cell_type": "code",
     "collapsed": false,
     "input": [
      "from python import utils"
     ],
     "language": "python",
     "metadata": {},
     "outputs": [],
     "prompt_number": 3
    },
    {
     "cell_type": "code",
     "collapsed": false,
     "input": [
      "with open(\"settings/testing_labelprop.json\") as fh:\n",
      "    settings = utils.json.load(fh)"
     ],
     "language": "python",
     "metadata": {},
     "outputs": [],
     "prompt_number": 4
    },
    {
     "cell_type": "code",
     "collapsed": false,
     "input": [
      "with open(\"segmentMetadata.json\") as fh:\n",
      "    meta = utils.json.load(fh)"
     ],
     "language": "python",
     "metadata": {},
     "outputs": [],
     "prompt_number": 5
    },
    {
     "cell_type": "code",
     "collapsed": false,
     "input": [
      "data = utils.get_data(settings)"
     ],
     "language": "python",
     "metadata": {},
     "outputs": [],
     "prompt_number": 6
    },
    {
     "cell_type": "code",
     "collapsed": false,
     "input": [
      "da = utils.DataAssembler(settings,data,meta)"
     ],
     "language": "python",
     "metadata": {},
     "outputs": [],
     "prompt_number": 8
    },
    {
     "cell_type": "markdown",
     "metadata": {},
     "source": [
      "Then we just need to build training sets for each subject and apply the relevant models.\n",
      "Unfortunately, the cross-validator doesn't handle test segments so we won't be able to run any informative cross-validation."
     ]
    },
    {
     "cell_type": "code",
     "collapsed": false,
     "input": [
      "import sklearn.ensemble\n",
      "import sklearn.preprocessing\n",
      "import sklearn.semi_supervised"
     ],
     "language": "python",
     "metadata": {},
     "outputs": [],
     "prompt_number": 15
    },
    {
     "cell_type": "code",
     "collapsed": false,
     "input": [
      "scaler = sklearn.preprocessing.StandardScaler()\n",
      "selector = sklearn.ensemble.ExtraTreesClassifier(n_estimators=1000)\n",
      "classifier = sklearn.semi_supervised.LabelPropagation()"
     ],
     "language": "python",
     "metadata": {},
     "outputs": [],
     "prompt_number": 19
    },
    {
     "cell_type": "code",
     "collapsed": false,
     "input": [
      "predictions = {}\n",
      "for subject in settings['SUBJECTS']:\n",
      "    print(\"Processing \" +subject)\n",
      "    Xtrain,ytrain = da.build_training(subject)\n",
      "    Xtest = da.build_test(subject)\n",
      "    \n",
      "    X = np.vstack([Xtrain,Xtest])\n",
      "    y = np.hstack([ytrain,np.array([-1.0]*Xtest.shape[0])])\n",
      "    \n",
      "    print(\"Fitting ExtraTree feature selection.\")\n",
      "    # then we want to fit preprocess the data\n",
      "    X = scaler.fit_transform(X)\n",
      "    selector.fit(Xtrain,ytrain)\n",
      "    \n",
      "    print(\"Applying ExtraTree feature selection.\")\n",
      "    X = selector.transform(X)\n",
      "    \n",
      "    print(\"Fitting classifier.\")\n",
      "    # then fit the classifier\n",
      "    classifier.fit(X,y)\n",
      "    \n",
      "    print(\"Classifying test data.\")\n",
      "    # then classify the test set\n",
      "    predictions[subject] = classifier.predict_proba(X)[:Xtrain.shape[0],:]\n",
      "    \n",
      "    break"
     ],
     "language": "python",
     "metadata": {},
     "outputs": [
      {
       "output_type": "stream",
       "stream": "stdout",
       "text": [
        "Processing Dog_1\n",
        "Fitting ExtraTree feature selection."
       ]
      },
      {
       "output_type": "stream",
       "stream": "stdout",
       "text": [
        "\n",
        "Applying ExtraTree feature selection."
       ]
      },
      {
       "output_type": "stream",
       "stream": "stdout",
       "text": [
        "\n",
        "Fitting classifier."
       ]
      },
      {
       "output_type": "stream",
       "stream": "stdout",
       "text": [
        "\n",
        "Classifying test data."
       ]
      },
      {
       "output_type": "stream",
       "stream": "stdout",
       "text": [
        "\n"
       ]
      },
      {
       "output_type": "stream",
       "stream": "stderr",
       "text": [
        "/home/gavin/.local/lib/python3.4/site-packages/sklearn/semi_supervised/label_propagation.py:254: RuntimeWarning: invalid value encountered in true_divide\n",
        "  self.label_distributions_ /= normalizer\n"
       ]
      }
     ],
     "prompt_number": 23
    },
    {
     "cell_type": "code",
     "collapsed": false,
     "input": [
      "predictions"
     ],
     "language": "python",
     "metadata": {},
     "outputs": [
      {
       "metadata": {},
       "output_type": "pyout",
       "prompt_number": 24,
       "text": [
        "{'Dog_1': array([[ nan,  nan],\n",
        "        [ nan,  nan],\n",
        "        [ nan,  nan],\n",
        "        ..., \n",
        "        [ nan,  nan],\n",
        "        [ nan,  nan],\n",
        "        [ nan,  nan]])}"
       ]
      }
     ],
     "prompt_number": 24
    },
    {
     "cell_type": "markdown",
     "metadata": {},
     "source": [
      "Unsure why that is happening, could be there is an assumption of the label propagation I'm unaware of that is causing problems."
     ]
    }
   ],
   "metadata": {}
  }
 ]
}