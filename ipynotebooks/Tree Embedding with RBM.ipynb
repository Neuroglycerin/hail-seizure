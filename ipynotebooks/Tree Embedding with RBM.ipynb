{
 "metadata": {
  "name": "",
  "signature": "sha256:a6c7f4bb1a4455b69a5f1d89953783661595ab6cae25fba1d2cd16f905794989"
 },
 "nbformat": 3,
 "nbformat_minor": 0,
 "worksheets": [
  {
   "cells": [
    {
     "cell_type": "markdown",
     "metadata": {},
     "source": [
      "Basically, this is a way to perform semi-supervised learning with an unreasonably complicated sequence of processing stages.\n",
      "First, we scale the data.\n",
      "Then, we transform the data into a sparse binary representation with a totally random tree embedding.\n",
      "Then, we use a restricted Boltzmann machine to extract a features from this representation.\n",
      "\n",
      "Frankly, I'll be amazed if it works."
     ]
    },
    {
     "cell_type": "code",
     "collapsed": false,
     "input": [
      "import matplotlib\n",
      "import matplotlib.pyplot as plt\n",
      "import numpy as np\n",
      "%matplotlib inline\n",
      "plt.rcParams['figure.figsize'] = 8, 12\n",
      "plt.rcParams['axes.grid'] = True\n",
      "plt.set_cmap('brg')"
     ],
     "language": "python",
     "metadata": {},
     "outputs": [
      {
       "metadata": {},
       "output_type": "display_data",
       "text": [
        "<matplotlib.figure.Figure at 0x7fc404861588>"
       ]
      }
     ],
     "prompt_number": 1
    },
    {
     "cell_type": "code",
     "collapsed": false,
     "input": [
      "cd .."
     ],
     "language": "python",
     "metadata": {},
     "outputs": [
      {
       "output_type": "stream",
       "stream": "stdout",
       "text": [
        "/home/gavin/repositories/hail-seizure\n"
       ]
      }
     ],
     "prompt_number": 2
    },
    {
     "cell_type": "code",
     "collapsed": false,
     "input": [
      "from python import utils"
     ],
     "language": "python",
     "metadata": {},
     "outputs": [],
     "prompt_number": 3
    },
    {
     "cell_type": "code",
     "collapsed": false,
     "input": [
      "with open(\"settings/forestselection_gavin.json\") as fh:\n",
      "    settings = utils.json.load(fh)"
     ],
     "language": "python",
     "metadata": {},
     "outputs": [],
     "prompt_number": 7
    },
    {
     "cell_type": "code",
     "collapsed": false,
     "input": [
      "with open(\"segmentMetadata.json\") as fh:\n",
      "    meta = utils.json.load(fh)"
     ],
     "language": "python",
     "metadata": {},
     "outputs": [],
     "prompt_number": 8
    },
    {
     "cell_type": "code",
     "collapsed": false,
     "input": [
      "data = utils.get_data(settings)"
     ],
     "language": "python",
     "metadata": {},
     "outputs": [],
     "prompt_number": 9
    },
    {
     "cell_type": "code",
     "collapsed": false,
     "input": [
      "da = utils.DataAssembler(settings,data,meta)"
     ],
     "language": "python",
     "metadata": {},
     "outputs": [],
     "prompt_number": 10
    },
    {
     "cell_type": "markdown",
     "metadata": {},
     "source": [
      "Then we just need to build training sets for each subject and apply the relevant models.\n",
      "Unfortunately, the cross-validator doesn't handle test segments so we won't be able to run any informative cross-validation."
     ]
    },
    {
     "cell_type": "code",
     "collapsed": false,
     "input": [
      "import sklearn.ensemble\n",
      "import sklearn.preprocessing\n",
      "import sklearn.neural_network\n",
      "import sklearn.svm"
     ],
     "language": "python",
     "metadata": {},
     "outputs": [],
     "prompt_number": 13
    },
    {
     "cell_type": "code",
     "collapsed": false,
     "input": [
      "scaler = sklearn.preprocessing.StandardScaler()\n",
      "embedding = sklearn.ensemble.RandomTreesEmbedding(n_estimators=1000)\n",
      "rbm = sklearn.neural_network.BernoulliRBM(n_components=500)\n",
      "classifier = sklearn.svm.SVC(kernel='linear',probability=True)"
     ],
     "language": "python",
     "metadata": {},
     "outputs": [],
     "prompt_number": 38
    },
    {
     "cell_type": "code",
     "collapsed": false,
     "input": [
      "%%time\n",
      "predictions = {}\n",
      "for subject in settings['SUBJECTS']:\n",
      "    print(\"Processing \" +subject)\n",
      "    Xtrain,ytrain = da.build_training(subject)\n",
      "    Xtest = da.build_test(subject)\n",
      "    \n",
      "    X = np.vstack([Xtrain,Xtest])\n",
      "    \n",
      "    print(\"Applying scaling.\")\n",
      "    # then we want to fit preprocess the data\n",
      "    X = scaler.fit_transform(X)\n",
      "    print(\"Shape of data: {0}\".format(X.shape))\n",
      "    \n",
      "    print(\"Applying Tree embedding.\")\n",
      "    X = embedding.fit_transform(X)\n",
      "    print(\"Shape of data: {0}\".format(X.shape))\n",
      "    \n",
      "    print(\"Applying RBM transformation.\")\n",
      "    X = rbm.fit_transform(X)\n",
      "    print(\"Shape of data: {0}\".format(X.shape))\n",
      "    \n",
      "    #slice Xtrain and Xtest back off of X\n",
      "    Xtrain = X[:Xtrain.shape[0],:]\n",
      "    Xtest = X[Xtrain.shape[0]:,:]\n",
      "    \n",
      "    print(\"Fitting classifier.\")\n",
      "    # then fit the classifier\n",
      "    classifier.fit(Xtrain,ytrain)\n",
      "    \n",
      "    print(\"Classifying test data.\")\n",
      "    # then classify the test set\n",
      "    predictions[subject] = np.hstack([da.test_segments[np.newaxis].T,\\\n",
      "                        classifier.predict_proba(Xtest)[:,1][np.newaxis].T])"
     ],
     "language": "python",
     "metadata": {},
     "outputs": [
      {
       "output_type": "stream",
       "stream": "stdout",
       "text": [
        "Processing Dog_1\n",
        "Applying scaling."
       ]
      },
      {
       "output_type": "stream",
       "stream": "stdout",
       "text": [
        "\n",
        "Shape of data: (1426, 3544)"
       ]
      },
      {
       "output_type": "stream",
       "stream": "stdout",
       "text": [
        "\n",
        "Applying Tree embedding.\n",
        "Shape of data: (1426, 22418)"
       ]
      }
     ]
    },
    {
     "cell_type": "markdown",
     "metadata": {},
     "source": [
      "Writing this to a file for submission:"
     ]
    },
    {
     "cell_type": "code",
     "collapsed": false,
     "input": [
      "import csv"
     ],
     "language": "python",
     "metadata": {},
     "outputs": [],
     "prompt_number": 34
    },
    {
     "cell_type": "code",
     "collapsed": false,
     "input": [
      "with open(\"output/svc_tree_embedded_rbm_transform_pg.csv\",\"w\") as f:\n",
      "    c = csv.writer(f)\n",
      "    c.writerow(['clip','preictal'])\n",
      "    for subject in settings['SUBJECTS']:\n",
      "        for line in predictions[subject]:\n",
      "            c.writerow(line)"
     ],
     "language": "python",
     "metadata": {},
     "outputs": [],
     "prompt_number": 35
    },
    {
     "cell_type": "code",
     "collapsed": false,
     "input": [
      "!wc output/svc_tree_embedded_rbm_transform_pg.csv"
     ],
     "language": "python",
     "metadata": {},
     "outputs": [
      {
       "output_type": "stream",
       "stream": "stdout",
       "text": [
        "  3936   3936 193900 output/svc_tree_embedded_rbm_transform_pg.csv\r\n"
       ]
      }
     ],
     "prompt_number": 36
    },
    {
     "cell_type": "code",
     "collapsed": false,
     "input": [
      "!head output/svc_tree_embedded_rbm_transform_pg.csv"
     ],
     "language": "python",
     "metadata": {},
     "outputs": [
      {
       "output_type": "stream",
       "stream": "stdout",
       "text": [
        "clip,preictal\r",
        "\r\n",
        "Dog_1_test_segment_0001.mat,0.044184624885111996\r",
        "\r\n",
        "Dog_1_test_segment_0002.mat,0.02816722082117112\r",
        "\r\n",
        "Dog_1_test_segment_0003.mat,0.06978296283310922\r",
        "\r\n",
        "Dog_1_test_segment_0004.mat,0.0721596852157005\r",
        "\r\n",
        "Dog_1_test_segment_0005.mat,0.0618317038171847\r",
        "\r\n",
        "Dog_1_test_segment_0006.mat,0.04214685872164505\r",
        "\r\n",
        "Dog_1_test_segment_0007.mat,1.0000000994736041e-07\r",
        "\r\n",
        "Dog_1_test_segment_0008.mat,0.08107052751684542\r",
        "\r\n",
        "Dog_1_test_segment_0009.mat,0.0610876518117504\r",
        "\r\n"
       ]
      }
     ],
     "prompt_number": 37
    }
   ],
   "metadata": {}
  }
 ]
}