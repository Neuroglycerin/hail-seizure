{
 "metadata": {
  "name": "",
  "signature": "sha256:dd63b3df73c6c145c606fc8d750506090a876bc4b47f875f632d68ffe6f72d21"
 },
 "nbformat": 3,
 "nbformat_minor": 0,
 "worksheets": [
  {
   "cells": [
    {
     "cell_type": "markdown",
     "metadata": {},
     "source": [
      "Trying again to make a global classifier as it might improve our performance.\n",
      "Basically, the idea is to stack up on CSPDR features, which are supposed to be the same size.\n",
      "Then, I'll go ahead and fit the same kind of classifier we've been dealing with and classify the output as we've already been doing.\n",
      "\n",
      "Shouldn't even need to modify the utils to do this, as I can just supply the same feature list, make subject training and test matrices and stack them up after scaling."
     ]
    },
    {
     "cell_type": "code",
     "collapsed": false,
     "input": [
      "import matplotlib\n",
      "import matplotlib.pyplot as plt\n",
      "import numpy as np\n",
      "%matplotlib inline\n",
      "plt.rcParams['figure.figsize'] = 8, 12\n",
      "plt.rcParams['axes.grid'] = True\n",
      "plt.set_cmap('brg')"
     ],
     "language": "python",
     "metadata": {},
     "outputs": [
      {
       "metadata": {},
       "output_type": "display_data",
       "text": [
        "<matplotlib.figure.Figure at 0x7f068424f5c0>"
       ]
      }
     ],
     "prompt_number": 1
    },
    {
     "cell_type": "markdown",
     "metadata": {},
     "source": [
      "Using the traditional probablygood features, but with CSP and dimensionality reduction."
     ]
    },
    {
     "cell_type": "code",
     "collapsed": false,
     "input": [
      "cd .."
     ],
     "language": "python",
     "metadata": {},
     "outputs": [
      {
       "output_type": "stream",
       "stream": "stdout",
       "text": [
        "/home/gavin/repositories/hail-seizure\n"
       ]
      }
     ],
     "prompt_number": 3
    },
    {
     "cell_type": "code",
     "collapsed": false,
     "input": [
      "import json"
     ],
     "language": "python",
     "metadata": {},
     "outputs": [],
     "prompt_number": 2
    },
    {
     "cell_type": "code",
     "collapsed": false,
     "input": [
      "with open(\"settings/forestselection_gavin.json\") as f:\n",
      "    fsettings = json.load(f)"
     ],
     "language": "python",
     "metadata": {},
     "outputs": [],
     "prompt_number": 4
    },
    {
     "cell_type": "code",
     "collapsed": false,
     "input": [
      "fsettings[\"FEATURES\"]"
     ],
     "language": "python",
     "metadata": {},
     "outputs": [
      {
       "metadata": {},
       "output_type": "pyout",
       "prompt_number": 5,
       "text": [
        "['cln,csp,dwn_feat_lmom-3_',\n",
        " 'cln,ica,dwn_feat_xcorr-ypeak_',\n",
        " 'cln,csp,dwn_feat_pib_ratioBB_',\n",
        " 'cln,ica,dwn_feat_mvar-GPDC_',\n",
        " 'cln,ica,dwn_feat_PSDlogfcorrcoef_',\n",
        " 'cln,ica,dwn_feat_pwling1_']"
       ]
      }
     ],
     "prompt_number": 5
    },
    {
     "cell_type": "code",
     "collapsed": false,
     "input": [],
     "language": "python",
     "metadata": {},
     "outputs": []
    }
   ],
   "metadata": {}
  }
 ]
}