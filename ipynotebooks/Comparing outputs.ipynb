{
 "metadata": {
  "name": "",
  "signature": "sha256:8c7f6ef34256d3daa0d943bf271b99b0187387d823976446fd5b67c7dc1f8b69"
 },
 "nbformat": 3,
 "nbformat_minor": 0,
 "worksheets": [
  {
   "cells": [
    {
     "cell_type": "markdown",
     "metadata": {},
     "source": [
      "We have a number of csvs that perform approximately equally well on the leaderboard, but use different processing and features.\n",
      "Looking at the differences in predictions between these."
     ]
    },
    {
     "cell_type": "code",
     "collapsed": false,
     "input": [
      "import matplotlib\n",
      "import matplotlib.pyplot as plt\n",
      "import numpy as np\n",
      "%matplotlib inline\n",
      "plt.rcParams['figure.figsize'] = 8, 8\n",
      "plt.rcParams['axes.grid'] = True\n",
      "plt.set_cmap('brg')"
     ],
     "language": "python",
     "metadata": {},
     "outputs": [
      {
       "metadata": {},
       "output_type": "display_data",
       "text": [
        "<matplotlib.figure.Figure at 0x7f6784dce1d0>"
       ]
      }
     ],
     "prompt_number": 50
    },
    {
     "cell_type": "code",
     "collapsed": false,
     "input": [
      "cd .."
     ],
     "language": "python",
     "metadata": {},
     "outputs": [
      {
       "output_type": "stream",
       "stream": "stdout",
       "text": [
        "/home/gavin/repositories/hail-seizure\n"
       ]
      }
     ],
     "prompt_number": 1
    },
    {
     "cell_type": "code",
     "collapsed": false,
     "input": [
      "csvone = \"output/forestselection_gavin_submission_using__v2_feats.csv\"\n",
      "# most recent best scoring\n",
      "csvtwo = \"best_from_batchall/output/SVC_best_for_each_subject_in_batchall_with_FS_submission_using__v3_feats.csv\"\n",
      "# expected good for patient 2\n",
      "#csvtwo = \"best_from_batchall/output/best_feats_combo_40_submission_using__v3_feats.csv\""
     ],
     "language": "python",
     "metadata": {},
     "outputs": [],
     "prompt_number": 23
    },
    {
     "cell_type": "code",
     "collapsed": false,
     "input": [
      "import csv"
     ],
     "language": "python",
     "metadata": {},
     "outputs": [],
     "prompt_number": 24
    },
    {
     "cell_type": "code",
     "collapsed": false,
     "input": [
      "dictone = {}\n",
      "with open(csvone) as f:\n",
      "    c = csv.reader(f)\n",
      "    fl = next(c)\n",
      "    for l in c:\n",
      "        dictone[l[0]] = float(l[1])"
     ],
     "language": "python",
     "metadata": {},
     "outputs": [],
     "prompt_number": 25
    },
    {
     "cell_type": "code",
     "collapsed": false,
     "input": [
      "dicttwo = {}\n",
      "with open(csvtwo) as f:\n",
      "    c = csv.reader(f)\n",
      "    fl = next(c)\n",
      "    for l in c:\n",
      "        dicttwo[l[0]] = float(l[1])"
     ],
     "language": "python",
     "metadata": {},
     "outputs": [],
     "prompt_number": 26
    },
    {
     "cell_type": "code",
     "collapsed": false,
     "input": [
      "segments = list(dictone.keys())"
     ],
     "language": "python",
     "metadata": {},
     "outputs": [],
     "prompt_number": 27
    },
    {
     "cell_type": "markdown",
     "metadata": {},
     "source": [
      "Merging by mean for submission\n",
      "==============================\n",
      "\n",
      "Normally described as an incredibly simple but effective way to combine models.\n",
      "Take the predictions of each and take the mean."
     ]
    },
    {
     "cell_type": "code",
     "collapsed": false,
     "input": [
      "with open(\"output/merged_by_mean.csv\",\"w\") as f:\n",
      "    c = csv.writer(f)\n",
      "    c.writerow(fl)\n",
      "    for s in segments:\n",
      "        merged = np.mean([dictone[s],dicttwo[s]])\n",
      "        c.writerow([s,merged])"
     ],
     "language": "python",
     "metadata": {},
     "outputs": [],
     "prompt_number": 20
    },
    {
     "cell_type": "code",
     "collapsed": false,
     "input": [
      "!wc output/merged_by_mean.csv"
     ],
     "language": "python",
     "metadata": {},
     "outputs": [
      {
       "output_type": "stream",
       "stream": "stdout",
       "text": [
        "  3936   3936 179834 output/merged_by_mean.csv\r\n"
       ]
      }
     ],
     "prompt_number": 21
    },
    {
     "cell_type": "code",
     "collapsed": false,
     "input": [
      "!head output/merged_by_mean.csv"
     ],
     "language": "python",
     "metadata": {},
     "outputs": [
      {
       "output_type": "stream",
       "stream": "stdout",
       "text": [
        "clip,preictal\r",
        "\r\n",
        "Dog_3_test_segment_0004.mat,0.0047967845368\r",
        "\r\n",
        "Dog_4_test_segment_0513.mat,0.00185037508382\r",
        "\r\n",
        "Dog_3_test_segment_0092.mat,0.0221447977233\r",
        "\r\n",
        "Dog_2_test_segment_0422.mat,0.00782869936236\r",
        "\r\n",
        "Patient_2_test_segment_0069.mat,0.521504281771\r",
        "\r\n",
        "Dog_2_test_segment_0252.mat,0.0273764296458\r",
        "\r\n",
        "Dog_1_test_segment_0486.mat,0.00321807666202\r",
        "\r\n",
        "Dog_4_test_segment_0891.mat,0.301792408714\r",
        "\r\n",
        "Dog_3_test_segment_0089.mat,0.00277851043177\r",
        "\r\n"
       ]
      }
     ],
     "prompt_number": 22
    },
    {
     "cell_type": "markdown",
     "metadata": {},
     "source": [
      "Comparing differences\n",
      "=====================\n",
      "\n",
      "The above submission is currently the best scoring.\n",
      "Comparing the differences in predictions made by each model."
     ]
    },
    {
     "cell_type": "code",
     "collapsed": false,
     "input": [
      "differences = {}\n",
      "for segment in segments:\n",
      "    difference = abs(dictone[segment]-dicttwo[segment])\n",
      "    differences[segment] = difference"
     ],
     "language": "python",
     "metadata": {},
     "outputs": [],
     "prompt_number": 30
    },
    {
     "cell_type": "code",
     "collapsed": false,
     "input": [
      "h=plt.hist(list(differences.values()), bins=25, log=True)"
     ],
     "language": "python",
     "metadata": {},
     "outputs": [
      {
       "metadata": {},
       "output_type": "display_data",
       "png": "[encoded data removed]",
       "text": [
        "<matplotlib.figure.Figure at 0x7f6784e4e048>"
       ]
      }
     ],
     "prompt_number": 51
    },
    {
     "cell_type": "markdown",
     "metadata": {},
     "source": [
      "Differences are logarithmically spaced, most disagreements are minor.\n",
      "Splitting these by subject:"
     ]
    },
    {
     "cell_type": "code",
     "collapsed": false,
     "input": [
      "import json"
     ],
     "language": "python",
     "metadata": {},
     "outputs": [],
     "prompt_number": 38
    },
    {
     "cell_type": "code",
     "collapsed": false,
     "input": [
      "with open(\"settings/forestselection_gavin.json\") as f:\n",
      "    settings = json.load(f)"
     ],
     "language": "python",
     "metadata": {},
     "outputs": [],
     "prompt_number": 39
    },
    {
     "cell_type": "code",
     "collapsed": false,
     "input": [
      "subjdifferences = {}\n",
      "for subject in settings['SUBJECTS']:\n",
      "    subjdifferences[subject] = {}\n",
      "for subject in settings['SUBJECTS']:\n",
      "    for segment in segments:\n",
      "        if subject in segment:\n",
      "            difference = abs(dictone[segment]-dicttwo[segment])\n",
      "            subjdifferences[subject][segment] = difference"
     ],
     "language": "python",
     "metadata": {},
     "outputs": [],
     "prompt_number": 44
    },
    {
     "cell_type": "code",
     "collapsed": false,
     "input": [
      "spltinds = [(i,j) for i in range(3) for j in range(3)][:7]"
     ],
     "language": "python",
     "metadata": {},
     "outputs": [],
     "prompt_number": 56
    },
    {
     "cell_type": "code",
     "collapsed": false,
     "input": [
      "f, axarr = plt.subplots(3,3)\n",
      "for subject,(i,j) in zip(settings['SUBJECTS'],spltinds):\n",
      "    axarr[i,j].set_title(subject)\n",
      "    h=axarr[i,j].hist(list(subjdifferences[subject].values()), bins=25, log=True)\n",
      "    meandiff = np.mean(list(subjdifferences[subject].values()))\n",
      "    print(subject + \" has average prediction difference of {0}\".format(meandiff))"
     ],
     "language": "python",
     "metadata": {},
     "outputs": [
      {
       "output_type": "stream",
       "stream": "stdout",
       "text": [
        "Dog_1 has average prediction difference of 0.02064752975320786\n",
        "Dog_2 has average prediction difference of 0.010975418109321925\n",
        "Dog_3 has average prediction difference of 0.02086565650608659\n",
        "Dog_4 has average prediction difference of 0.03390148789065487\n",
        "Dog_5 has average prediction difference of 0.0019821561473201445"
       ]
      },
      {
       "output_type": "stream",
       "stream": "stdout",
       "text": [
        "\n",
        "Patient_1 has average prediction difference of 0.028013861925094356\n",
        "Patient_2 has average prediction difference of 0.18082091683388\n"
       ]
      },
      {
       "metadata": {},
       "output_type": "display_data",
       "png": "[encoded data removed]",
       "text": [
        "<matplotlib.figure.Figure at 0x7f67a4f220b8>"
       ]
      }
     ],
     "prompt_number": 58
    },
    {
     "cell_type": "markdown",
     "metadata": {},
     "source": [
      "Looks like Patient 2 was changed the most by the mean merging.\n",
      "\n",
      "Therefore, could weight the merging based on differences in AUC reported results?\n",
      "Results for the two models are:\n",
      "\n",
      "```\n",
      "forestselection_gavin\t0.612280991736\t0.991058806801\t0.88025\t0.760826709857\t0.979630853994\t0.911704716852\t0.649256198347\t0.834669401275\n",
      "```\n",
      "\n",
      "```\n",
      "SVC_best_for_each_subject_in_batchall_with_FS\t0.628723140496\t0.995495161918\t0.889429752066\t0.772317200377\t0.98061707989\t0.916032496915\t0.628533057851\t0.872194085084\n",
      "```\n",
      "\n",
      "So, it looks like the second should be better for everything except Patient 2.\n",
      "\n",
      "Testing this, will create two submissions, one which weights the recent model on patient 2, and one which weights the older model on patient 2."
     ]
    },
    {
     "cell_type": "code",
     "collapsed": false,
     "input": [
      "with open(\"output/merged_by_mean_recent_weighted_P2.csv\",\"w\") as f:\n",
      "    c = csv.writer(f)\n",
      "    c.writerow(fl)\n",
      "    for s in segments:\n",
      "        if \"Patient_2\" in s:\n",
      "            merged = 0.1*dictone[s] + 0.9*dicttwo[s]\n",
      "        else:\n",
      "            merged = np.mean([dictone[s],dicttwo[s]])\n",
      "        c.writerow([s,merged])"
     ],
     "language": "python",
     "metadata": {},
     "outputs": [],
     "prompt_number": 59
    },
    {
     "cell_type": "code",
     "collapsed": false,
     "input": [
      "with open(\"output/merged_by_mean_old_weighted_P2.csv\",\"w\") as f:\n",
      "    c = csv.writer(f)\n",
      "    c.writerow(fl)\n",
      "    for s in segments:\n",
      "        if \"Patient_2\" in s:\n",
      "            merged = 0.9*dictone[s] + 0.1*dicttwo[s]\n",
      "        else:\n",
      "            merged = np.mean([dictone[s],dicttwo[s]])\n",
      "        c.writerow([s,merged])"
     ],
     "language": "python",
     "metadata": {},
     "outputs": [],
     "prompt_number": 60
    },
    {
     "cell_type": "markdown",
     "metadata": {},
     "source": [
      "Finlay's theory is that Patient 2 is misleading, and that the newer features are less noisy, so the classifier is less confident.\n",
      "Whereas with the newer features the confident classifier makes more mistakes.\n",
      "\n",
      "Theoretically, then we might do better just moderating the predictions by a prior belief.\n",
      "To do that though, we need to define a conditional distribution of observing this result given our prior belief.\n",
      "\n",
      "As a sanity check, might as well replace all the predictions for Patient 2 with the class prior:"
     ]
    },
    {
     "cell_type": "code",
     "collapsed": false,
     "input": [
      "p2prior = 18.0/42\n",
      "with open(\"output/merged_by_mean_prior_P2.csv\",\"w\") as f:\n",
      "    c = csv.writer(f)\n",
      "    c.writerow(fl)\n",
      "    for s in segments:\n",
      "        if \"Patient_2\" in s:\n",
      "            merged = p2prior\n",
      "        else:\n",
      "            merged = np.mean([dictone[s],dicttwo[s]])\n",
      "        c.writerow([s,merged])"
     ],
     "language": "python",
     "metadata": {},
     "outputs": [],
     "prompt_number": 63
    },
    {
     "cell_type": "markdown",
     "metadata": {},
     "source": [
      "Submitted and _improved our best score_.\n",
      "Overfitting on Patient 2 must have been massive.\n",
      "\n",
      "Question is now, what score do you get if you replace all subjects by their respective class priors?"
     ]
    },
    {
     "cell_type": "code",
     "collapsed": false,
     "input": [
      "priors = {'Patient_2':18.0/42,\n",
      "          'Patient_1':18.0/50,\n",
      "          'Dog_5':30.0/450,\n",
      "          'Dog_4':97.0/804,\n",
      "          'Dog_3':72.0/1440,\n",
      "          'Dog_2':42.0/500,\n",
      "          'Dog_1':24.0/480}"
     ],
     "language": "python",
     "metadata": {},
     "outputs": [],
     "prompt_number": 64
    },
    {
     "cell_type": "code",
     "collapsed": false,
     "input": [
      "with open(\"output/priors.csv\",\"w\") as f:\n",
      "    c = csv.writer(f)\n",
      "    c.writerow(fl)\n",
      "    for subject in settings['SUBJECTS']:\n",
      "        for s in segments:\n",
      "           if subject in s:\n",
      "                c.writerow([s,priors[subject]])"
     ],
     "language": "python",
     "metadata": {},
     "outputs": [],
     "prompt_number": 66
    },
    {
     "cell_type": "code",
     "collapsed": false,
     "input": [
      "!head output/priors.csv"
     ],
     "language": "python",
     "metadata": {},
     "outputs": [
      {
       "output_type": "stream",
       "stream": "stdout",
       "text": [
        "clip,preictal\r",
        "\r\n",
        "Dog_1_test_segment_0486.mat,0.05\r",
        "\r\n",
        "Dog_1_test_segment_0228.mat,0.05\r",
        "\r\n",
        "Dog_1_test_segment_0425.mat,0.05\r",
        "\r\n",
        "Dog_1_test_segment_0051.mat,0.05\r",
        "\r\n",
        "Dog_1_test_segment_0266.mat,0.05\r",
        "\r\n",
        "Dog_1_test_segment_0252.mat,0.05\r",
        "\r\n",
        "Dog_1_test_segment_0277.mat,0.05\r",
        "\r\n",
        "Dog_1_test_segment_0359.mat,0.05\r",
        "\r\n",
        "Dog_1_test_segment_0187.mat,0.05\r",
        "\r\n"
       ]
      }
     ],
     "prompt_number": 67
    },
    {
     "cell_type": "code",
     "collapsed": false,
     "input": [
      "!wc -l output/priors.csv"
     ],
     "language": "python",
     "metadata": {},
     "outputs": [
      {
       "output_type": "stream",
       "stream": "stdout",
       "text": [
        "3936 output/priors.csv\r\n"
       ]
      }
     ],
     "prompt_number": 68
    },
    {
     "cell_type": "markdown",
     "metadata": {},
     "source": [
      "Only scored 0.52, so our predictions are not completely useless.\n",
      "\n",
      "Taking average of the class prior model and both the csvs defined above:"
     ]
    },
    {
     "cell_type": "code",
     "collapsed": false,
     "input": [
      "with open(\"output/merged_by_mean_and_priors.csv\",\"w\") as f:\n",
      "    c = csv.writer(f)\n",
      "    c.writerow(fl)\n",
      "    for s in segments:\n",
      "        prior = [priors[subj] for subj in settings['SUBJECTS'] if subj in s][0]\n",
      "        t = 1.0/3\n",
      "        merged = t*dictone[s]+t*dicttwo[s]+t*prior\n",
      "        c.writerow([s,merged])"
     ],
     "language": "python",
     "metadata": {},
     "outputs": [],
     "prompt_number": 80
    },
    {
     "cell_type": "markdown",
     "metadata": {},
     "source": [
      "Now, it might be interesting to see if our best performing model for Patient 2 performs better than priors.\n",
      "So, keeping all other subjects equal to priors."
     ]
    },
    {
     "cell_type": "code",
     "collapsed": false,
     "input": [
      "bestp2 = {}\n",
      "with open(\"output/SVC_ica_psd_logfBB_submission_using__v3_feats.csv\") as f:\n",
      "    c = csv.reader(f)\n",
      "    fl = next(c)\n",
      "    for l in c:\n",
      "        bestp2[l[0]] = float(l[1])"
     ],
     "language": "python",
     "metadata": {},
     "outputs": [],
     "prompt_number": 81
    },
    {
     "cell_type": "code",
     "collapsed": false,
     "input": [
      "with open(\"output/priors_and_bestp2.csv\",\"w\") as f:\n",
      "    c = csv.writer(f)\n",
      "    c.writerow(fl)\n",
      "    for s in segments:\n",
      "        if 'Patient_2' in s:\n",
      "            c.writerow([s,bestp2[s]])\n",
      "        else:\n",
      "            prior = [priors[subj] for subj in settings['SUBJECTS'] if subj in s][0]\n",
      "            c.writerow([s,prior])"
     ],
     "language": "python",
     "metadata": {},
     "outputs": [],
     "prompt_number": 83
    },
    {
     "cell_type": "code",
     "collapsed": false,
     "input": [
      "!wc -l output/priors_and_bestp2.csv"
     ],
     "language": "python",
     "metadata": {},
     "outputs": [
      {
       "output_type": "stream",
       "stream": "stdout",
       "text": [
        "3936 output/priors_and_bestp2.csv\r\n"
       ]
      }
     ],
     "prompt_number": 84
    },
    {
     "cell_type": "markdown",
     "metadata": {},
     "source": [
      "Merging many high scoring models\n",
      "================================\n",
      "\n",
      "Looking at the submissions we've placed, sorted by their score we can take those which scored well and used a variety of different features.\n",
      "If we merge these, they should cover a variety of different predictions, and hopefully make less mistakes."
     ]
    },
    {
     "cell_type": "code",
     "collapsed": false,
     "input": [
      "outputcsvs = [csvone,\n",
      "              csvtwo,\n",
      "              \"output/stoch_opt_2nd_submission_using__v2_feats.csv\",\n",
      "              \"output/bbsubj_pg_submission_using__v2_feats.csv\"]"
     ],
     "language": "python",
     "metadata": {},
     "outputs": [],
     "prompt_number": 134
    },
    {
     "cell_type": "code",
     "collapsed": false,
     "input": [
      "dicts = {}\n",
      "for cname in outputcsvs:\n",
      "    dicts[cname] = {}\n",
      "for cname in outputcsvs:\n",
      "    with open(cname) as f:\n",
      "        c = csv.reader(f)\n",
      "        fl = next(c)\n",
      "        for l in c:\n",
      "            dicts[cname][l[0]] = float(l[1])"
     ],
     "language": "python",
     "metadata": {},
     "outputs": [],
     "prompt_number": 135
    },
    {
     "cell_type": "code",
     "collapsed": false,
     "input": [
      "with open(\"output/merged_many_v1.csv\",\"w\") as f:\n",
      "    c = csv.writer(f)\n",
      "    c.writerow(fl)\n",
      "    for s in segments:\n",
      "        many = []\n",
      "        for cname in outputcsvs:\n",
      "            many.append(dicts[cname][s])\n",
      "        c.writerow([s,np.mean(many)])"
     ],
     "language": "python",
     "metadata": {},
     "outputs": [],
     "prompt_number": 91
    },
    {
     "cell_type": "code",
     "collapsed": false,
     "input": [
      "!wc -l output/merged_many_v1.csv"
     ],
     "language": "python",
     "metadata": {},
     "outputs": [
      {
       "output_type": "stream",
       "stream": "stdout",
       "text": [
        "3936 output/merged_many_v1.csv\r\n"
       ]
      }
     ],
     "prompt_number": 92
    },
    {
     "cell_type": "code",
     "collapsed": false,
     "input": [
      "!head output/merged_many_v1.csv"
     ],
     "language": "python",
     "metadata": {},
     "outputs": [
      {
       "output_type": "stream",
       "stream": "stdout",
       "text": [
        "clip,preictal\r",
        "\r\n",
        "Dog_3_test_segment_0004.mat,0.00129428360747\r",
        "\r\n",
        "Dog_4_test_segment_0513.mat,0.00202438699512\r",
        "\r\n",
        "Dog_3_test_segment_0092.mat,0.0139067631793\r",
        "\r\n",
        "Dog_2_test_segment_0422.mat,0.00554526906305\r",
        "\r\n",
        "Patient_2_test_segment_0069.mat,0.492256693615\r",
        "\r\n",
        "Dog_2_test_segment_0252.mat,0.0286838474079\r",
        "\r\n",
        "Dog_1_test_segment_0486.mat,0.00423288634731\r",
        "\r\n",
        "Dog_4_test_segment_0891.mat,0.203710510697\r",
        "\r\n",
        "Dog_3_test_segment_0089.mat,0.00131372250918\r",
        "\r\n"
       ]
      }
     ],
     "prompt_number": 93
    },
    {
     "cell_type": "code",
     "collapsed": false,
     "input": [
      "outputcsvs"
     ],
     "language": "python",
     "metadata": {},
     "outputs": [
      {
       "metadata": {},
       "output_type": "pyout",
       "prompt_number": 94,
       "text": [
        "['output/forestselection_gavin_submission_using__v2_feats.csv',\n",
        " 'best_from_batchall/output/SVC_best_for_each_subject_in_batchall_with_FS_submission_using__v3_feats.csv',\n",
        " 'output/stoch_opt_2nd_submission_using__v2_feats.csv',\n",
        " 'output/bbsubj_pg_submission_using__v2_feats.csv']"
       ]
      }
     ],
     "prompt_number": 94
    },
    {
     "cell_type": "markdown",
     "metadata": {},
     "source": [
      "Comparing output of bagging tests\n",
      "=================================\n",
      "\n",
      "We have limited submissions and I want to know if the results from changing bagging settings has actually produced a different output.\n",
      "Opening most recent big bagger and checking if it's making some new insights."
     ]
    },
    {
     "cell_type": "code",
     "collapsed": false,
     "input": [
      "metabag = {}\n",
      "with open(\"best_from_batchall/output/best_5_feats_per_subj_fs_bagging_submission_using__v3_feats.csv\") as f:\n",
      "    c = csv.reader(f)\n",
      "    fl = next(c)\n",
      "    for l in c:\n",
      "        metabag[l[0]] = float(l[1])"
     ],
     "language": "python",
     "metadata": {},
     "outputs": [],
     "prompt_number": 95
    },
    {
     "cell_type": "code",
     "collapsed": false,
     "input": [
      "differences = {}\n",
      "for s in segments:\n",
      "    many = []\n",
      "    for cname in outputcsvs:\n",
      "        many.append(dicts[cname][s])\n",
      "    subject = [subj for subj in settings['SUBJECTS'] if subj in s][0]\n",
      "    differences[s] = abs(np.mean(many)-metabag[s])"
     ],
     "language": "python",
     "metadata": {},
     "outputs": [],
     "prompt_number": 100
    },
    {
     "cell_type": "code",
     "collapsed": false,
     "input": [
      "h=plt.hist(list(differences.values()), bins=25, log=True)"
     ],
     "language": "python",
     "metadata": {},
     "outputs": [
      {
       "metadata": {},
       "output_type": "display_data",
       "png": "[encoded data removed]",
       "text": [
        "<matplotlib.figure.Figure at 0x7f67841e26d8>"
       ]
      }
     ],
     "prompt_number": 101
    },
    {
     "cell_type": "code",
     "collapsed": false,
     "input": [
      "subjdifferences = {}\n",
      "for subject in settings['SUBJECTS']:\n",
      "    subjdifferences[subject] = {}\n",
      "for s in differences.keys():\n",
      "    subject = [subj for subj in settings['SUBJECTS'] if subj in s][0]\n",
      "    subjdifferences[subject][s] = differences[s]"
     ],
     "language": "python",
     "metadata": {},
     "outputs": [],
     "prompt_number": 103
    },
    {
     "cell_type": "code",
     "collapsed": false,
     "input": [
      "f, axarr = plt.subplots(3,3)\n",
      "for subject,(i,j) in zip(settings['SUBJECTS'],spltinds):\n",
      "    axarr[i,j].set_title(subject)\n",
      "    h=axarr[i,j].hist(list(subjdifferences[subject].values()), bins=25, log=True)\n",
      "    meandiff = np.mean(list(subjdifferences[subject].values()))\n",
      "    print(subject + \" has average prediction difference of {0}\".format(meandiff))"
     ],
     "language": "python",
     "metadata": {},
     "outputs": [
      {
       "output_type": "stream",
       "stream": "stdout",
       "text": [
        "Dog_1 has average prediction difference of 0.07399804467006905\n",
        "Dog_2 has average prediction difference of 0.05089346716249404\n",
        "Dog_3 has average prediction difference of 0.1548756828904873\n",
        "Dog_4 has average prediction difference of 0.046560074382240184\n",
        "Dog_5 has average prediction difference of 0.016466505323713715"
       ]
      },
      {
       "output_type": "stream",
       "stream": "stdout",
       "text": [
        "\n",
        "Patient_1 has average prediction difference of 0.11772024479643448\n",
        "Patient_2 has average prediction difference of 0.2315801992692685\n"
       ]
      },
      {
       "metadata": {},
       "output_type": "display_data",
       "png": "[encoded data removed]",
       "text": [
        "<matplotlib.figure.Figure at 0x7f6784ca8588>"
       ]
      }
     ],
     "prompt_number": 104
    },
    {
     "cell_type": "markdown",
     "metadata": {},
     "source": [
      "Appears it has many insights.\n",
      "Although its performance on Patient 2 was worse according to our tests so I'm not liking how it's going to affect that.\n",
      "Anyway, probably worth giving it a try."
     ]
    },
    {
     "cell_type": "code",
     "collapsed": false,
     "input": [
      "dicts[\"best_from_batchall/output/best_5_feats_per_subj_fs_bagging_submission_using__v3_feats.csv\"] = metabag"
     ],
     "language": "python",
     "metadata": {},
     "outputs": [],
     "prompt_number": 131
    },
    {
     "cell_type": "code",
     "collapsed": false,
     "input": [
      "with open(\"output/merged_many_v2.csv\",\"w\") as f:\n",
      "    c = csv.writer(f)\n",
      "    c.writerow(fl)\n",
      "    for s in segments:\n",
      "        many = []\n",
      "        for cname in outputcsvs:\n",
      "            many.append(dicts[cname][s])\n",
      "        c.writerow([s,np.mean(many)])"
     ],
     "language": "python",
     "metadata": {},
     "outputs": [],
     "prompt_number": 111
    },
    {
     "cell_type": "code",
     "collapsed": false,
     "input": [
      "!wc -l output/merged_many_v2.csv"
     ],
     "language": "python",
     "metadata": {},
     "outputs": [
      {
       "output_type": "stream",
       "stream": "stdout",
       "text": [
        "3936 output/merged_many_v2.csv\r\n"
       ]
      }
     ],
     "prompt_number": 108
    },
    {
     "cell_type": "markdown",
     "metadata": {},
     "source": [
      "Scored __exactly the same__. Was there a problem generating the file?"
     ]
    },
    {
     "cell_type": "code",
     "collapsed": false,
     "input": [
      "!head output/merged_many_v2.csv"
     ],
     "language": "python",
     "metadata": {},
     "outputs": [
      {
       "output_type": "stream",
       "stream": "stdout",
       "text": [
        "clip,preictal\r",
        "\r\n",
        "Dog_3_test_segment_0004.mat,0.00129428360747\r",
        "\r\n",
        "Dog_4_test_segment_0513.mat,0.00202438699512\r",
        "\r\n",
        "Dog_3_test_segment_0092.mat,0.0139067631793\r",
        "\r\n",
        "Dog_2_test_segment_0422.mat,0.00554526906305\r",
        "\r\n",
        "Patient_2_test_segment_0069.mat,0.492256693615\r",
        "\r\n",
        "Dog_2_test_segment_0252.mat,0.0286838474079\r",
        "\r\n",
        "Dog_1_test_segment_0486.mat,0.00423288634731\r",
        "\r\n",
        "Dog_4_test_segment_0891.mat,0.203710510697\r",
        "\r\n",
        "Dog_3_test_segment_0089.mat,0.00131372250918\r",
        "\r\n"
       ]
      }
     ],
     "prompt_number": 109
    },
    {
     "cell_type": "code",
     "collapsed": false,
     "input": [
      "!head output/merged_many_v1.csv"
     ],
     "language": "python",
     "metadata": {},
     "outputs": [
      {
       "output_type": "stream",
       "stream": "stdout",
       "text": [
        "clip,preictal\r",
        "\r\n",
        "Dog_3_test_segment_0004.mat,0.00129428360747\r",
        "\r\n",
        "Dog_4_test_segment_0513.mat,0.00202438699512\r",
        "\r\n",
        "Dog_3_test_segment_0092.mat,0.0139067631793\r",
        "\r\n",
        "Dog_2_test_segment_0422.mat,0.00554526906305\r",
        "\r\n",
        "Patient_2_test_segment_0069.mat,0.492256693615\r",
        "\r\n",
        "Dog_2_test_segment_0252.mat,0.0286838474079\r",
        "\r\n",
        "Dog_1_test_segment_0486.mat,0.00423288634731\r",
        "\r\n",
        "Dog_4_test_segment_0891.mat,0.203710510697\r",
        "\r\n",
        "Dog_3_test_segment_0089.mat,0.00131372250918\r",
        "\r\n"
       ]
      }
     ],
     "prompt_number": 110
    },
    {
     "cell_type": "markdown",
     "metadata": {},
     "source": [
      "Trying again:"
     ]
    },
    {
     "cell_type": "code",
     "collapsed": false,
     "input": [
      "with open(\"output/merged_many_v2.csv\",\"w\") as f:\n",
      "    c = csv.writer(f)\n",
      "    c.writerow(fl)\n",
      "    for s in segments:\n",
      "        many = []\n",
      "        for cname in dicts.keys():\n",
      "            many.append(dicts[cname][s])\n",
      "        c.writerow([s,np.mean(many)])"
     ],
     "language": "python",
     "metadata": {},
     "outputs": [],
     "prompt_number": 132
    },
    {
     "cell_type": "code",
     "collapsed": false,
     "input": [
      "!head output/merged_many_v1.csv"
     ],
     "language": "python",
     "metadata": {},
     "outputs": [
      {
       "output_type": "stream",
       "stream": "stdout",
       "text": [
        "clip,preictal\r",
        "\r\n",
        "Dog_3_test_segment_0004.mat,0.00129428360747\r",
        "\r\n",
        "Dog_4_test_segment_0513.mat,0.00202438699512\r",
        "\r\n",
        "Dog_3_test_segment_0092.mat,0.0139067631793\r",
        "\r\n",
        "Dog_2_test_segment_0422.mat,0.00554526906305\r",
        "\r\n",
        "Patient_2_test_segment_0069.mat,0.492256693615\r",
        "\r\n",
        "Dog_2_test_segment_0252.mat,0.0286838474079\r",
        "\r\n",
        "Dog_1_test_segment_0486.mat,0.00423288634731\r",
        "\r\n",
        "Dog_4_test_segment_0891.mat,0.203710510697\r",
        "\r\n",
        "Dog_3_test_segment_0089.mat,0.00131372250918\r",
        "\r\n"
       ]
      }
     ],
     "prompt_number": 113
    },
    {
     "cell_type": "code",
     "collapsed": false,
     "input": [
      "!head output/merged_many_v2.csv"
     ],
     "language": "python",
     "metadata": {},
     "outputs": [
      {
       "output_type": "stream",
       "stream": "stdout",
       "text": [
        "clip,preictal\r",
        "\r\n",
        "Dog_3_test_segment_0004.mat,0.0163188759151\r",
        "\r\n",
        "Dog_4_test_segment_0513.mat,0.00354892274079\r",
        "\r\n",
        "Dog_3_test_segment_0092.mat,0.0357681808458\r",
        "\r\n",
        "Dog_2_test_segment_0422.mat,0.0157409124055\r",
        "\r\n",
        "Patient_2_test_segment_0069.mat,0.533347395722\r",
        "\r\n",
        "Dog_2_test_segment_0252.mat,0.0397640627025\r",
        "\r\n",
        "Dog_1_test_segment_0486.mat,0.00962392496653\r",
        "\r\n",
        "Dog_4_test_segment_0891.mat,0.205599353916\r",
        "\r\n",
        "Dog_3_test_segment_0089.mat,0.0166897321028\r",
        "\r\n"
       ]
      }
     ],
     "prompt_number": 114
    },
    {
     "cell_type": "markdown",
     "metadata": {},
     "source": [
      "Merging in the results from Finlay's run over a range of different features.\n",
      "Going to merge the results from his run, then merge that in half and half and submit.\n",
      "Just going to assume that's the right way to do it."
     ]
    },
    {
     "cell_type": "code",
     "collapsed": false,
     "input": [
      "import glob"
     ],
     "language": "python",
     "metadata": {},
     "outputs": [],
     "prompt_number": 115
    },
    {
     "cell_type": "code",
     "collapsed": false,
     "input": [
      "fcsvs = glob.glob(\"best_from_batchall/output/best_actual*\")+glob.glob(\"best_from_batchall/output/best_predicted*\")"
     ],
     "language": "python",
     "metadata": {},
     "outputs": [],
     "prompt_number": 122
    },
    {
     "cell_type": "code",
     "collapsed": false,
     "input": [
      "fdicts = {}\n",
      "for cn in fcsvs:\n",
      "    fdicts[cn] = {}\n",
      "for cn in fcsvs:\n",
      "    with open(cn) as f:\n",
      "        c = csv.reader(f)\n",
      "        fl = next(c)\n",
      "        for l in c:\n",
      "            fdicts[cn][l[0]] = float(l[1])"
     ],
     "language": "python",
     "metadata": {},
     "outputs": [],
     "prompt_number": 124
    },
    {
     "cell_type": "code",
     "collapsed": false,
     "input": [
      "dicts = {}\n",
      "for cname in outputcsvs:\n",
      "    dicts[cname] = {}\n",
      "for cname in outputcsvs:\n",
      "    with open(cname) as f:\n",
      "        c = csv.reader(f)\n",
      "        fl = next(c)\n",
      "        for l in c:\n",
      "            dicts[cname][l[0]] = float(l[1])"
     ],
     "language": "python",
     "metadata": {},
     "outputs": [],
     "prompt_number": 141
    },
    {
     "cell_type": "code",
     "collapsed": false,
     "input": [
      "with open(\"output/merged_many_v3.csv\",\"w\") as f:\n",
      "    c = csv.writer(f)\n",
      "    c.writerow(fl)\n",
      "    for s in segments:\n",
      "        many = []\n",
      "        for cname in dicts.keys():\n",
      "            many.append(dicts[cname][s])\n",
      "        fmany = []\n",
      "        for cname in fdicts.keys():\n",
      "            fmany.append(fdicts[cname][s])\n",
      "        m1 = np.mean(many)\n",
      "        m2 = np.mean(fmany)\n",
      "        c.writerow([s,np.mean([m1,m2])])"
     ],
     "language": "python",
     "metadata": {},
     "outputs": [],
     "prompt_number": 138
    },
    {
     "cell_type": "code",
     "collapsed": false,
     "input": [
      "!head output/merged_many_v3.csv"
     ],
     "language": "python",
     "metadata": {},
     "outputs": [
      {
       "output_type": "stream",
       "stream": "stdout",
       "text": [
        "clip,preictal\r",
        "\r\n",
        "Dog_3_test_segment_0004.mat,0.00510976750483\r",
        "\r\n",
        "Dog_4_test_segment_0513.mat,0.00317865284799\r",
        "\r\n",
        "Dog_3_test_segment_0092.mat,0.0582608339042\r",
        "\r\n",
        "Dog_2_test_segment_0422.mat,0.0250088383963\r",
        "\r\n",
        "Patient_2_test_segment_0069.mat,0.534794264787\r",
        "\r\n",
        "Dog_2_test_segment_0252.mat,0.0478100460831\r",
        "\r\n",
        "Dog_1_test_segment_0486.mat,0.00499771934952\r",
        "\r\n",
        "Dog_4_test_segment_0891.mat,0.171102233983\r",
        "\r\n",
        "Dog_3_test_segment_0089.mat,0.00582667004074\r",
        "\r\n"
       ]
      }
     ],
     "prompt_number": 139
    },
    {
     "cell_type": "code",
     "collapsed": false,
     "input": [
      "!wc -l output/merged_many_v3.csv"
     ],
     "language": "python",
     "metadata": {},
     "outputs": [
      {
       "output_type": "stream",
       "stream": "stdout",
       "text": [
        "3936 output/merged_many_v3.csv\r\n"
       ]
      }
     ],
     "prompt_number": 140
    },
    {
     "cell_type": "markdown",
     "metadata": {},
     "source": [
      "Submitted with no improvement.\n",
      "Mirroring extra weighting on forestselection model that performed well above, but including other features.\n"
     ]
    },
    {
     "cell_type": "code",
     "collapsed": false,
     "input": [
      "outputcsvs"
     ],
     "language": "python",
     "metadata": {},
     "outputs": [
      {
       "metadata": {},
       "output_type": "pyout",
       "prompt_number": 143,
       "text": [
        "['output/forestselection_gavin_submission_using__v2_feats.csv',\n",
        " 'best_from_batchall/output/SVC_best_for_each_subject_in_batchall_with_FS_submission_using__v3_feats.csv',\n",
        " 'output/stoch_opt_2nd_submission_using__v2_feats.csv',\n",
        " 'output/bbsubj_pg_submission_using__v2_feats.csv']"
       ]
      }
     ],
     "prompt_number": 143
    },
    {
     "cell_type": "code",
     "collapsed": false,
     "input": [
      "with open(\"output/merged_many_v4.csv\",\"w\") as f:\n",
      "    c = csv.writer(f)\n",
      "    c.writerow(fl)\n",
      "    for s in segments:\n",
      "        many = []\n",
      "        for cname in outputcsvs:\n",
      "            many.append(dicts[cname][s])\n",
      "        mnval = many[0]*0.3 + many[1]*0.4 + many[2]*0.15 + many[3]*0.15\n",
      "        c.writerow([s,mnval])"
     ],
     "language": "python",
     "metadata": {},
     "outputs": [],
     "prompt_number": 144
    },
    {
     "cell_type": "code",
     "collapsed": false,
     "input": [
      "!head output/merged_many_v4.csv"
     ],
     "language": "python",
     "metadata": {},
     "outputs": [
      {
       "output_type": "stream",
       "stream": "stdout",
       "text": [
        "clip,preictal\r",
        "\r\n",
        "Dog_3_test_segment_0004.mat,0.0014054687478759502\r",
        "\r\n",
        "Dog_4_test_segment_0513.mat,0.00225659884321235\r",
        "\r\n",
        "Dog_3_test_segment_0092.mat,0.0156593710598584\r",
        "\r\n",
        "Dog_2_test_segment_0422.mat,0.005305384628439\r",
        "\r\n",
        "Patient_2_test_segment_0069.mat,0.51010191977545\r",
        "\r\n",
        "Dog_2_test_segment_0252.mat,0.023407033436635003\r",
        "\r\n",
        "Dog_1_test_segment_0486.mat,0.0046907305827434\r",
        "\r\n",
        "Dog_4_test_segment_0891.mat,0.16398791244316502\r",
        "\r\n",
        "Dog_3_test_segment_0089.mat,0.0014320754750565498\r",
        "\r\n"
       ]
      }
     ],
     "prompt_number": 145
    },
    {
     "cell_type": "code",
     "collapsed": false,
     "input": [
      "!wc -l output/merged_many_v4.csv"
     ],
     "language": "python",
     "metadata": {},
     "outputs": [
      {
       "output_type": "stream",
       "stream": "stdout",
       "text": [
        "3936 output/merged_many_v4.csv\r\n"
       ]
      }
     ],
     "prompt_number": 146
    }
   ],
   "metadata": {}
  }
 ]
}