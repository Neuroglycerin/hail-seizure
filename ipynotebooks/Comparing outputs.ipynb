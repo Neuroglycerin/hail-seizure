{
 "metadata": {
  "name": "",
  "signature": "sha256:0c7c0860b5fd0422905d965616fccc9434a3c191c9d1747414846ba8184dbf86"
 },
 "nbformat": 3,
 "nbformat_minor": 0,
 "worksheets": [
  {
   "cells": [
    {
     "cell_type": "markdown",
     "metadata": {},
     "source": [
      "We have a number of csvs that perform approximately equally well on the leaderboard, but use different processing and features.\n",
      "Looking at the differences in predictions between these."
     ]
    },
    {
     "cell_type": "code",
     "collapsed": false,
     "input": [
      "import matplotlib\n",
      "import matplotlib.pyplot as plt\n",
      "import numpy as np\n",
      "%matplotlib inline\n",
      "plt.rcParams['figure.figsize'] = 8, 12\n",
      "plt.rcParams['axes.grid'] = True\n",
      "plt.set_cmap('brg')"
     ],
     "language": "python",
     "metadata": {},
     "outputs": [
      {
       "metadata": {},
       "output_type": "display_data",
       "text": [
        "<matplotlib.figure.Figure at 0x7f67a46c2048>"
       ]
      }
     ],
     "prompt_number": 2
    },
    {
     "cell_type": "code",
     "collapsed": false,
     "input": [
      "cd .."
     ],
     "language": "python",
     "metadata": {},
     "outputs": [
      {
       "output_type": "stream",
       "stream": "stdout",
       "text": [
        "/home/gavin/repositories/hail-seizure\n"
       ]
      }
     ],
     "prompt_number": 1
    },
    {
     "cell_type": "code",
     "collapsed": false,
     "input": [
      "csvone = \"output/forestselection_gavin_submission_using__v2_feats.csv\"\n",
      "csvtwo = \"best_from_batchall/output/SVC_best_for_each_subject_in_batchall_with_FS_submission_using__v3_feats.csv\""
     ],
     "language": "python",
     "metadata": {},
     "outputs": [],
     "prompt_number": 8
    },
    {
     "cell_type": "code",
     "collapsed": false,
     "input": [
      "import csv"
     ],
     "language": "python",
     "metadata": {},
     "outputs": [],
     "prompt_number": 4
    },
    {
     "cell_type": "code",
     "collapsed": false,
     "input": [
      "dictone = {}\n",
      "with open(csvone) as f:\n",
      "    c = csv.reader(f)\n",
      "    fl = next(c)\n",
      "    for l in c:\n",
      "        dictone[l[0]] = float(l[1])"
     ],
     "language": "python",
     "metadata": {},
     "outputs": [],
     "prompt_number": 9
    },
    {
     "cell_type": "code",
     "collapsed": false,
     "input": [
      "dicttwo = {}\n",
      "with open(csvtwo) as f:\n",
      "    c = csv.reader(f)\n",
      "    fl = next(c)\n",
      "    for l in c:\n",
      "        dicttwo[l[0]] = float(l[1])"
     ],
     "language": "python",
     "metadata": {},
     "outputs": [],
     "prompt_number": 10
    },
    {
     "cell_type": "code",
     "collapsed": false,
     "input": [
      "segments = list(dictone.keys())"
     ],
     "language": "python",
     "metadata": {},
     "outputs": [],
     "prompt_number": 11
    },
    {
     "cell_type": "code",
     "collapsed": false,
     "input": [
      "with open(\"output/merged_by_mean.csv\",\"w\") as f:\n",
      "    c = csv.writer(f)\n",
      "    c.writerow(fl)\n",
      "    for s in segments:\n",
      "        merged = np.mean([dictone[s],dicttwo[s]])\n",
      "        c.writerow([s,merged])"
     ],
     "language": "python",
     "metadata": {},
     "outputs": [],
     "prompt_number": 12
    },
    {
     "cell_type": "code",
     "collapsed": false,
     "input": [
      "!wc output/merged_by_mean.csv"
     ],
     "language": "python",
     "metadata": {},
     "outputs": [
      {
       "output_type": "stream",
       "stream": "stdout",
       "text": [
        "  3936   3936 180572 output/merged_by_mean.csv\r\n"
       ]
      }
     ],
     "prompt_number": 13
    },
    {
     "cell_type": "code",
     "collapsed": false,
     "input": [
      "!head output/merged_by_mean.csv"
     ],
     "language": "python",
     "metadata": {},
     "outputs": [
      {
       "output_type": "stream",
       "stream": "stdout",
       "text": [
        "clip,preictal\r",
        "\r\n",
        "Dog_3_test_segment_0004.mat,0.00161982528312\r",
        "\r\n",
        "Dog_4_test_segment_0513.mat,0.00280721134634\r",
        "\r\n",
        "Dog_3_test_segment_0092.mat,0.023051446654\r",
        "\r\n",
        "Dog_2_test_segment_0422.mat,0.00524585429105\r",
        "\r\n",
        "Patient_2_test_segment_0069.mat,0.52173730259\r",
        "\r\n",
        "Dog_2_test_segment_0252.mat,0.0165565373762\r",
        "\r\n",
        "Dog_1_test_segment_0486.mat,0.00548302433435\r",
        "\r\n",
        "Dog_4_test_segment_0891.mat,0.0851058673497\r",
        "\r\n",
        "Dog_3_test_segment_0089.mat,0.0016662868633\r",
        "\r\n"
       ]
      }
     ],
     "prompt_number": 14
    }
   ],
   "metadata": {}
  }
 ]
}